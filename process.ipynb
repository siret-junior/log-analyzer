{
 "cells": [
  {
   "cell_type": "code",
   "execution_count": 1,
   "metadata": {},
   "outputs": [],
   "source": [
    "import numpy as np\n",
    "import csv\n",
    "import json\n",
    "import os \n",
    "import datetime\n",
    "import matplotlib.pyplot as plt\n",
    "import seaborn as sb\n",
    "\n",
    "from IPython.display import Image, display, HTML\n",
    "\n",
    "import pprint \n",
    "pp = pprint.PrettyPrinter(indent=4)\n"
   ]
  },
  {
   "cell_type": "code",
   "execution_count": 2,
   "metadata": {},
   "outputs": [],
   "source": [
    "import config\n",
    "import utils\n"
   ]
  },
  {
   "cell_type": "code",
   "execution_count": null,
   "metadata": {},
   "outputs": [],
   "source": []
  },
  {
   "cell_type": "code",
   "execution_count": null,
   "metadata": {},
   "outputs": [],
   "source": [
    "\n"
   ]
  },
  {
   "cell_type": "code",
   "execution_count": 3,
   "metadata": {},
   "outputs": [],
   "source": [
    "#\n",
    "# Summary log type\n",
    "#\n",
    "class SummaryLog:\n",
    "    \"\"\"\n",
    "    Represents one summary log file.\n",
    "    \"\"\"\n",
    "    def __init__(self):\n",
    "        self.data = []\n",
    "                \n",
    "    @staticmethod\n",
    "    def parse_file(full_path, filename):\n",
    "\n",
    "        log = SummaryLog()\n",
    "        fpth = os.path.join(full_path, filename)\n",
    "\n",
    "        with open(fpth, 'r') as ifs:    \n",
    "            line = ifs.readline()\n",
    "            while (line):\n",
    "                log.parse_line(line)\n",
    "                line = ifs.readline()\n",
    "\n",
    "        return log\n",
    "    \n",
    "    def parse_line(self, line):\n",
    "        self.data.append(line)"
   ]
  },
  {
   "cell_type": "code",
   "execution_count": 4,
   "metadata": {},
   "outputs": [],
   "source": [
    "#\n",
    "# JSON log type\n",
    "#\n",
    "class JsonLog:\n",
    "    \"\"\"\n",
    "    Represents one JSON log file.\n",
    "    \"\"\"\n",
    "    def __init__(self):\n",
    "        pass\n",
    "        \n",
    "    @staticmethod\n",
    "    def fix_JSON(JSON_text, filename):\n",
    "\n",
    "        if (len(JSON_text) == 0):\n",
    "            raise Exception(\"File {} is empty!\".format(filename))\n",
    "\n",
    "        #\n",
    "        # Remove an extra comma at the end of the file\n",
    "        #\n",
    "        comma_idx = JSON_text.rfind(\",\")\n",
    "        text_len = len(JSON_text)\n",
    "        if (comma_idx >= text_len - 3):\n",
    "            JSON_text = JSON_text[0:comma_idx] + \"\\n\"\n",
    "\n",
    "\n",
    "        #\n",
    "        # Wrap submit logs with an array, cause there may be multiple submits at the same millisecond\n",
    "        #\n",
    "        if (filename.endswith(\"submit.json\")):\n",
    "            JSON_text = \"[{}]\".format(JSON_text)\n",
    "\n",
    "\n",
    "        fixed = JSON_text\n",
    "\n",
    "        try:\n",
    "            parsed = json.loads(fixed)\n",
    "            return fixed\n",
    "        except:\n",
    "            print(fixed)\n",
    "            raise Exception(\"nende\")\n",
    "\n",
    "    @staticmethod\n",
    "    def parse_file(full_path, filename):\n",
    "        fpth = os.path.join(full_path, filename)\n",
    "        parsed = None\n",
    "        with open(fpth, 'r') as ifs:    \n",
    "            try:\n",
    "\n",
    "                parsed = json.load(ifs)\n",
    "                if (filename.endswith(\"submit.json\") and type(parsed) is dict):\n",
    "                    raise Exception(\"!!\")\n",
    "            except:\n",
    "                ifs.seek(0)\n",
    "                text = ifs.read()\n",
    "\n",
    "                parsed = JsonLog.fix_JSON(text, filename)\n",
    "                ifs.close()\n",
    "\n",
    "                stinfo = os.stat(fpth)                \n",
    "                with open(fpth, 'w') as ofs:\n",
    "                    ofs.write(parsed)\n",
    "                    print(\"W: Rewritten the file {}!\".format(filename))\n",
    "                os.utime(fpth ,(stinfo.st_atime, stinfo.st_mtime))\n",
    "        return parsed      "
   ]
  },
  {
   "cell_type": "code",
   "execution_count": null,
   "metadata": {},
   "outputs": [],
   "source": []
  },
  {
   "cell_type": "code",
   "execution_count": 13,
   "metadata": {},
   "outputs": [],
   "source": [
    "class Data:\n",
    "    def __init__(self):\n",
    "        self.verbose = False\n",
    "        \n",
    "        self.tasks = TaskDefs.parse_tasks(config.TASKS_JSON, config.TASKS_STARTS, config.TASK_MAPPING, config.thumbs_list_filepath(), verbose=self.verbose)\n",
    "        \n",
    "    def parse_team(self, team_name: str, team_names: list, verbose = False, validate_fix=False, generate_DRES=False):\n",
    "        self.verbose = verbose\n",
    "        \n",
    "        print(\"==============\\nTEAM: {}\\n\".format(team_name))\n",
    "        \n",
    "        ### main()\n",
    "        if (validate_fix):\n",
    "            self.validate_and_fix_input_data(team_name, team_names)\n",
    "        \n",
    "        self.calculate_server_ts_diff(team_name, team_names)\n",
    "        \n",
    "        if (generate_DRES):\n",
    "            self.generate_DRES_logs(team_name, team_names)\n",
    "        \n",
    "        \n",
    "        ###\n",
    "        \n",
    "        self.verbose = False\n",
    "     \n",
    "    \n",
    "    def validate_and_fix_input_data(self, team_name: str, team_names: list):\n",
    "        print(\"%%% VALIDATING & FIXING %%%\")\n",
    "            \n",
    "        for user_name in team_names:\n",
    "            path = config.path(user_name)\n",
    "            \n",
    "            print(\"---\\n\\t +++ {} +++ \\n\\tDATA: {} \\n\".format(user_name, path))\n",
    "                \n",
    "            self.parsed[team_name] = self.validate_user(user_name, path)\n",
    "            \n",
    "        print(\"%%% DONE! %%%\")\n",
    "    \n",
    "    def calculate_server_ts_diff(self, team_name: str, team_names: list):\n",
    "        print(\"%%% CALCULATING SERVER TS DIFF %%%\")\n",
    "            \n",
    "        diffs = []\n",
    "        for user_name in team_names:\n",
    "            path = config.path(user_name)\n",
    "            \n",
    "            print(\"---\\n\\t +++ {} +++ \\n\\tDATA: {} \\n\".format(user_name, path))\n",
    "                \n",
    "            ds = self.calculate_server_ts_diff_for_user(user_name, path)\n",
    "            \n",
    "            diffs.append(ds)\n",
    "            \n",
    "        \n",
    "        #pp.pprint(diffs)\n",
    "        \n",
    "        mins = []\n",
    "        \n",
    "        for dfs in diffs:\n",
    "            mins.append(np.min(np.array(dfs)))\n",
    "            \n",
    "        i = 0\n",
    "        for user_name in team_names:\n",
    "            print(\"DIFF MIN FOR {}: {}\".format(user_name, mins[i]))\n",
    "            i += 1\n",
    "            \n",
    "        print(\"%%% DONE! %%%\")    \n",
    "        \n",
    "        return mins\n",
    "        \n",
    "    def generate_DRES_logs(self, team_name: str, team_names: list):\n",
    "        print(\"%%% GENERATING DRES LOG FILES %%%\")\n",
    "            \n",
    "        for user_name in team_names:\n",
    "            path = config.path(user_name)\n",
    "            \n",
    "            print(\"---\\n\\t +++ {} +++ \\n\\tDATA: {} \\n\".format(user_name, path))\n",
    "                \n",
    "            self.generate_DRES_results_for_user(team_name, user_name, path)\n",
    "            \n",
    "        print(\"%%% DONE! %%%\")\n",
    "        \n",
    "\n",
    "    \n",
    "    def calculate_server_ts_diff_for_user(self, user_name, path):\n",
    "        dir = config.dir_names()[\"actions\"]\n",
    "            \n",
    "        diffs = []\n",
    "        \n",
    "        if (self.verbose):\n",
    "            print(\"\\t--- DIR: {} ---\".format(dir))\n",
    "\n",
    "        full_path = os.path.join(path, dir)\n",
    "        \n",
    "        for filename in os.listdir(full_path): \n",
    "            actions = JsonLog.parse_file(full_path, filename)\n",
    "            \n",
    "            for a in actions:\n",
    "                ser_ts = a[\"metadata\"][\"serverTimestamp\"]\n",
    "                loc_ts = a[\"metadata\"][\"timestamp\"]\n",
    "                diff = ser_ts - loc_ts\n",
    "                \n",
    "                if ser_ts < 10000:\n",
    "                    continue\n",
    "                \n",
    "                diffs.append(diff)\n",
    "\n",
    "        if (self.verbose):\n",
    "            print(\"\\t--- DONE. ---\")\n",
    "        \n",
    "            \n",
    "        return diffs\n",
    "    \n",
    "    def generate_DRES_results_for_user(self, team_name, user_name, path):\n",
    "        dir = config.dir_names()[\"requests\"]\n",
    "        out_dir = config.out_dir(\"dres\")\n",
    "        \n",
    "        \n",
    "            \n",
    "        if (self.verbose):\n",
    "            print(\"\\t--- DIR: {} ---\".format(dir))\n",
    "            print(\"\\t--- OUT: {} ---\".format(out_dir))\n",
    "\n",
    "        full_path = os.path.join(path, dir)\n",
    "        \n",
    "        # For each file in the 'requests' directory\n",
    "        for filename in os.listdir(full_path): \n",
    "            if (not filename.endswith(\"result.json\")):\n",
    "                continue\n",
    "                \n",
    "            file_json = JsonLog.parse_file(full_path, filename)\n",
    "            stinfo = os.stat(os.path.join(full_path, filename))                \n",
    "            \n",
    "            ts = file_json[\"timestamp\"]\n",
    "            file_json[\"request\"][\"timestamp\"] = ts\n",
    "            \n",
    "            user_out_dir = os.path.join(out_dir, team_name, user_name)\n",
    "            os.makedirs(user_out_dir, exist_ok = True)\n",
    "            \n",
    "            fpth = os.path.join(user_out_dir, \"{}.json\".format(ts))\n",
    "            \n",
    "            \n",
    "            with open(fpth, \"w\") as ofs:\n",
    "                ofs.write(json.dumps(file_json[\"request\"], indent = 4))\n",
    "                \n",
    "            os.utime(fpth ,(stinfo.st_atime, stinfo.st_mtime))\n",
    "                \n",
    "        if (self.verbose):\n",
    "            print(\"\\t--- DONE. ---\")\n",
    "        \n",
    "    def validate_user(self, user_name, path):\n",
    "        for _, dir in config.dir_names().items():\n",
    "            \n",
    "            if (self.verbose):\n",
    "                print(\"\\t--- DIR: {} ---\".format(dir))\n",
    "                \n",
    "            full_path = os.path.join(path, dir)\n",
    "            for filename in os.listdir(full_path): \n",
    "                \n",
    "                if (filename.endswith(\"log\")):\n",
    "                     SummaryLog.parse_file(full_path, filename)   \n",
    "                else:\n",
    "                    JsonLog.parse_file(full_path, filename)\n",
    "                    \n",
    "            if (self.verbose):\n",
    "                print(\"\\t--- DONE. ---\")\n",
    "                \n",
    "    def print_tasks(self):\n",
    "        self.tasks.print()"
   ]
  },
  {
   "cell_type": "code",
   "execution_count": 14,
   "metadata": {},
   "outputs": [],
   "source": [
    "class TaskTarget:\n",
    "    def __init__(self, video_ID, fnum_from, fnum_to):\n",
    "        self._video_ID = video_ID\n",
    "        self._fnum_from = fnum_from\n",
    "        self._fnum_to = fnum_to\n",
    "        \n",
    "    def interval(self):\n",
    "        return (self._fnum_from, self._fnum_to)\n",
    "    \n",
    "    def video_ID(self):\n",
    "        return self._video_ID\n",
    "    \n",
    "    def __str__(self):\n",
    "        s = \"*** TaskTarget ***\\n\"\n",
    "        s += f\"\\t\\tvideo_ID: {self.video_ID()}\\n\"\n",
    "        s += f\"\\t\\tinterval: ({self.interval()[0]}, {self.interval()[1]})\\n\"\n",
    "        \n",
    "        return s\n",
    "    \n",
    "\n",
    "class Task:\n",
    "    def __init__(self, name, type, from_ts, to_ts, \n",
    "                 text=None, target:TaskTarget = None):\n",
    "        self._name = name\n",
    "        \n",
    "        # type \\in { A, V, T }\n",
    "        self._type = type\n",
    "        self._from_ts = from_ts\n",
    "        self._to_ts = to_ts\n",
    "        \n",
    "        self._text = text\n",
    "        self._target = target\n",
    "        \n",
    "        \n",
    "        if (self._type == \"V\" and self.text() != None):\n",
    "            raise Exception(\"Visual tasks have no texts.\")\n",
    "        \n",
    "        if (self._type == \"A\" and self.target() != None):\n",
    "            raise Exception(\"AVS task cannot have target.\")\n",
    "        \n",
    "    def name(self):\n",
    "        return self._name\n",
    "    \n",
    "    def type(self):\n",
    "        return self._type\n",
    "    \n",
    "    def timestamps(self):\n",
    "        return (self._from_ts, self._to_ts)\n",
    "    \n",
    "    def times(self):\n",
    "        tss = self.timestamps()\n",
    "        return (utils.from_UNIX(tss[0]), utils.from_UNIX(tss[1]))\n",
    "    \n",
    "    def text(self):\n",
    "        return self._text\n",
    "    \n",
    "    def target(self):\n",
    "        return self._target\n",
    "    \n",
    "    \n",
    "    def __str__(self):\n",
    "        s = \"\\t*** Task ***\\n\"\n",
    "        s += f\"\\tname: {self.name()}\\n\"\n",
    "        s += f\"\\ttype: {self.type()}\\n\"\n",
    "        s += f\"\\ttimestamps: ({self.timestamps()[0]}, {self.timestamps()[1]})\\n\"\n",
    "        s += f\"\\ttimes: ({self.times()[0]}, {self.times()[1]})\\n\"\n",
    "        s += f\"\\ttext: {self.text()}\\n\"\n",
    "        s += f\"\\ttarget: {self.target().__str__()}\\n\"\n",
    "        \n",
    "        return s\n",
    "        \n",
    "    \n",
    "        \n",
    "\n",
    "class TaskDefs:\n",
    "    def __init__(self, thumbs_list_filepath):\n",
    "        self.tasks = []\n",
    "        self.thumbs = {}\n",
    "\n",
    "        with open(thumbs_list_filepath) as csv_file:\n",
    "            csv_reader = csv.reader(csv_file, delimiter=',')\n",
    "            \n",
    "            for row in csv_reader:\n",
    "                v_ID = int(row[0][0:5]) + 1 ## !!!\n",
    "                fnum = int(row[0][42:50])\n",
    "                \n",
    "                if (not v_ID in self.thumbs):\n",
    "                    self.thumbs[v_ID] = {}\n",
    "                    \n",
    "                self.thumbs[v_ID][fnum] = row[0]\n",
    "                \n",
    "        #pp.pprint(self.thumbs)\n",
    "        \n",
    "        \n",
    "    def task(self, idx:int):\n",
    "        return self.tasks[idx]\n",
    "        \n",
    "    def task(self, name:str):\n",
    "        for t in self.tasks:\n",
    "            if (t.name() == name):\n",
    "                return t\n",
    "            \n",
    "    def print(self):     \n",
    "        print(\"***############################***\")\n",
    "        print(\"***###*** VBS 2021 TASKS ***###***\")\n",
    "        print(\"***############################***\")\n",
    "        \n",
    "        print(\">>>>>>>>>>>>> STATS <<<<<<<<<<<<<<<<\")\n",
    "        \n",
    "        print(\"Number of tasks: {}\".format(len(self.tasks)))\n",
    "        \n",
    "        # Print unique video IDs\n",
    "        unique_v_IDs = set()\n",
    "        for t in self.tasks:\n",
    "            if (t.target() != None):\n",
    "                unique_v_IDs.add(t.target().video_ID())\n",
    "            \n",
    "        print(\"Unique video IDs: \")\n",
    "        for u in sorted(unique_v_IDs):\n",
    "            print(u, end =\", \")\n",
    "        print(\"\")\n",
    "        \n",
    "        print(\">>>>>>>>>>>>> TASKS <<<<<<<<<<<<<<<<\")\n",
    "        for t in self.tasks:\n",
    "            print(t.__str__() + \"\")\n",
    "            \n",
    "            if (t.target() != None):\n",
    "                v_ID = t.target().video_ID()\n",
    "                fr, to = t.target().interval()\n",
    "            \n",
    "                fnms = self.filenames(v_ID, fr, to)\n",
    "                fnms = list(map(lambda x: os.path.join(config.thumbs_dir(), x), fnms))\n",
    "                \n",
    "                utils.print_images_row(fnms)\n",
    "                \n",
    "            print(\"------------------------------------\")\n",
    "            \n",
    "    def filename(v_ID, fnum):\n",
    "        return self.thumbs[v_ID][fnum]\n",
    "    \n",
    "    def filenames(self, v_ID, fr, to, limit=5):\n",
    "        fnums = self.thumbs[v_ID].keys()\n",
    "        \n",
    "        res = []\n",
    "        for n in fnums:\n",
    "            if (fr <= n and n <= to):\n",
    "                res.append(self.thumbs[v_ID][n])\n",
    "    \n",
    "    \n",
    "        return res\n",
    "    \n",
    "    @staticmethod\n",
    "    def parse_tasks(tasks_fpth, tasks_ends_fpth, mapping_fpth, thumbs_list_fpth, verbose=False):\n",
    "        print(\"%%% PARSING TASKS %%%\")\n",
    "            \n",
    "        \n",
    "        tasks_JSON = None\n",
    "        with open(tasks_fpth) as ifs:\n",
    "            tasks_JSON = json.load(ifs)[\"tasks\"]\n",
    "        \n",
    "        guid_to_video_ID = {}\n",
    "        guid_to_FPS = {}\n",
    "        with open(mapping_fpth) as ifs_mapping:\n",
    "            mapping_reader = csv.reader(ifs_mapping, delimiter=',')\n",
    "            for row in mapping_reader:\n",
    "                if (len(row) < 3):\n",
    "                    break\n",
    "                guid_to_video_ID[row[0]] = int(row[1])\n",
    "                guid_to_FPS[row[0]] = float(row[2])\n",
    "        \n",
    "        \n",
    "        tdefs = TaskDefs(thumbs_list_fpth)\n",
    "        \n",
    "        count = 0\n",
    "        with open(tasks_ends_fpth) as ifs_starts:\n",
    "            starts_reader = csv.reader(ifs_starts, delimiter=',')\n",
    "\n",
    "            for row in starts_reader:\n",
    "                count +=1\n",
    "                t_name = row[2]\n",
    "                \n",
    "                if (verbose):\n",
    "                    print(\"\\t ...Task {} parsed.\".format(t_name))\n",
    "                \n",
    "                t = utils.find_task_def(tasks_JSON, t_name)\n",
    "                t_datetime = \"{}T{}\".format(row[0], row[1])\n",
    "                \n",
    "                \n",
    "                t_type =t[\"taskType\"][0:1]\n",
    "                t_tsfrom = utils.UNIX_from_datetime(t_datetime)\n",
    "                t_tsto = t_tsfrom + (t[\"duration\"] * 1000) #ms\n",
    "                \n",
    "                text = None\n",
    "                if (t_type == \"T\"):\n",
    "                    text = \"\"\n",
    "                    for c in t[\"components\"]:\n",
    "                        text = c[\"description\"]\n",
    "                        \n",
    "                elif (t_type == \"A\"):\n",
    "                    text = t[\"components\"][0][\"description\"]\n",
    "                \n",
    "                t_target = None\n",
    "                if (t_type != \"A\"):\n",
    "                    guid = t[\"target\"][\"mediaItems\"][0][\"mediaItem\"]\n",
    "                    \n",
    "                    fps = guid_to_FPS[guid]\n",
    "                    vid_ID = guid_to_video_ID[guid]\n",
    "                    \n",
    "                    fr = t[\"target\"][\"mediaItems\"][0][\"temporalRange\"][\"start\"][\"value\"] * fps\n",
    "                    to = t[\"target\"][\"mediaItems\"][0][\"temporalRange\"][\"end\"][\"value\"] * fps\n",
    "                    \n",
    "                    if (t[\"target\"][\"mediaItems\"][0][\"temporalRange\"][\"start\"][\"unit\"] != \"SECONDS\"):\n",
    "                        raise Exception(\"Invalid value type.\")\n",
    "                    \n",
    "                    t_target = TaskTarget(\n",
    "                        vid_ID, fr, to\n",
    "                    )\n",
    "                \n",
    "                task = Task(\n",
    "                    t_name, \n",
    "                    t_type,\n",
    "                    t_tsfrom, t_tsto,\n",
    "                    text,\n",
    "                    t_target\n",
    "                )\n",
    "                tdefs.tasks.append(task)\n",
    "\n",
    "        print(f\"%%% Parsed {count} tasks. %%%\")\n",
    "        print(\"%%% DONE! %%%\")\n",
    "        return tdefs\n",
    "\n",
    "    \n",
    "    \n",
    "    def __str__(self):\n",
    "        s = \"*** TaskDefs ***\\n\"\n",
    "        \n",
    "        for t in self.tasks:\n",
    "            s += t.__str__() + \"\\n\"\n",
    "        \n",
    "        return s"
   ]
  },
  {
   "cell_type": "code",
   "execution_count": 15,
   "metadata": {
    "scrolled": false
   },
   "outputs": [
    {
     "name": "stdout",
     "output_type": "stream",
     "text": [
      "%%% PARSING TASKS %%%\n",
      "%%% Parsed 38 tasks. %%%\n",
      "%%% DONE! %%%\n",
      "***############################***\n",
      "***###*** VBS 2021 TASKS ***###***\n",
      "***############################***\n",
      ">>>>>>>>>>>>> STATS <<<<<<<<<<<<<<<<\n",
      "Number of tasks: 38\n",
      "Unique video IDs: \n",
      "88, 1162, 1939, 2034, 2224, 2464, 2519, 3085, 3317, 3331, 3870, 3885, 4035, 4178, 4225, 4316, 4888, 4979, 5146, 5531, 6228, 6246, 6561, 6827, 6979, 7116, 7421, \n",
      ">>>>>>>>>>>>> TASKS <<<<<<<<<<<<<<<<\n",
      "\t*** Task ***\n",
      "\tname: v21-1\n",
      "\ttype: V\n",
      "\ttimestamps: (1624277458765, 1624277758765)\n",
      "\ttimes: (21-06-2021 14:10:58, 21-06-2021 14:15:58)\n",
      "\ttext: None\n",
      "\ttarget: *** TaskTarget ***\n",
      "\t\tvideo_ID: 4178\n",
      "\t\tinterval: (1875.0, 2300.0)\n",
      "\n",
      "\n"
     ]
    },
    {
     "data": {
      "text/html": [
       "<img src=\"./thumbs/04177/v04177_s00009(f00001097-f00002570)_f00001875.jpg\" style=\"max-width:100px;display:inline;margin:1px\"/><img src=\"./thumbs/04177/v04177_s00009(f00001097-f00002570)_f00001881.jpg\" style=\"max-width:100px;display:inline;margin:1px\"/><img src=\"./thumbs/04177/v04177_s00009(f00001097-f00002570)_f00001900.jpg\" style=\"max-width:100px;display:inline;margin:1px\"/><img src=\"./thumbs/04177/v04177_s00009(f00001097-f00002570)_f00001919.jpg\" style=\"max-width:100px;display:inline;margin:1px\"/><img src=\"./thumbs/04177/v04177_s00009(f00001097-f00002570)_f00001931.jpg\" style=\"max-width:100px;display:inline;margin:1px\"/><img src=\"./thumbs/04177/v04177_s00009(f00001097-f00002570)_f00001938.jpg\" style=\"max-width:100px;display:inline;margin:1px\"/><img src=\"./thumbs/04177/v04177_s00009(f00001097-f00002570)_f00001975.jpg\" style=\"max-width:100px;display:inline;margin:1px\"/><img src=\"./thumbs/04177/v04177_s00009(f00001097-f00002570)_f00002050.jpg\" style=\"max-width:100px;display:inline;margin:1px\"/><img src=\"./thumbs/04177/v04177_s00009(f00001097-f00002570)_f00002106.jpg\" style=\"max-width:100px;display:inline;margin:1px\"/><img src=\"./thumbs/04177/v04177_s00009(f00001097-f00002570)_f00002131.jpg\" style=\"max-width:100px;display:inline;margin:1px\"/><img src=\"./thumbs/04177/v04177_s00009(f00001097-f00002570)_f00002156.jpg\" style=\"max-width:100px;display:inline;margin:1px\"/><img src=\"./thumbs/04177/v04177_s00009(f00001097-f00002570)_f00002169.jpg\" style=\"max-width:100px;display:inline;margin:1px\"/><img src=\"./thumbs/04177/v04177_s00009(f00001097-f00002570)_f00002206.jpg\" style=\"max-width:100px;display:inline;margin:1px\"/><img src=\"./thumbs/04177/v04177_s00009(f00001097-f00002570)_f00002250.jpg\" style=\"max-width:100px;display:inline;margin:1px\"/>"
      ],
      "text/plain": [
       "<IPython.core.display.HTML object>"
      ]
     },
     "metadata": {},
     "output_type": "display_data"
    },
    {
     "name": "stdout",
     "output_type": "stream",
     "text": [
      "------------------------------------\n",
      "\t*** Task ***\n",
      "\tname: a21-5\n",
      "\ttype: A\n",
      "\ttimestamps: (1624277828154, 1624278128154)\n",
      "\ttimes: (21-06-2021 14:17:08, 21-06-2021 14:22:08)\n",
      "\ttext: Find shots of a person holding or waving a flag.\n",
      "\ttarget: None\n",
      "\n",
      "------------------------------------\n",
      "\t*** Task ***\n",
      "\tname: t21-1\n",
      "\ttype: T\n",
      "\ttimestamps: (1624278204021, 1624278624021)\n",
      "\ttimes: (21-06-2021 14:23:24, 21-06-2021 14:30:24)\n",
      "\ttext: Graffity artists spraying purple outline of the letters RTH. Letters are white/green on a wall with a blueish graffity on the left. He wears a blue jacket over a green hoodie.\n",
      "\n",
      "\ttarget: *** TaskTarget ***\n",
      "\t\tvideo_ID: 3085\n",
      "\t\tinterval: (7850.0, 8425.0)\n",
      "\n",
      "\n"
     ]
    },
    {
     "data": {
      "text/html": [
       "<img src=\"./thumbs/03084/v03084_s00009(f00007066-f00008732)_f00007856.jpg\" style=\"max-width:100px;display:inline;margin:1px\"/><img src=\"./thumbs/03084/v03084_s00009(f00007066-f00008732)_f00007869.jpg\" style=\"max-width:100px;display:inline;margin:1px\"/><img src=\"./thumbs/03084/v03084_s00009(f00007066-f00008732)_f00007888.jpg\" style=\"max-width:100px;display:inline;margin:1px\"/><img src=\"./thumbs/03084/v03084_s00009(f00007066-f00008732)_f00007900.jpg\" style=\"max-width:100px;display:inline;margin:1px\"/><img src=\"./thumbs/03084/v03084_s00009(f00007066-f00008732)_f00007912.jpg\" style=\"max-width:100px;display:inline;margin:1px\"/><img src=\"./thumbs/03084/v03084_s00009(f00007066-f00008732)_f00007925.jpg\" style=\"max-width:100px;display:inline;margin:1px\"/><img src=\"./thumbs/03084/v03084_s00009(f00007066-f00008732)_f00007962.jpg\" style=\"max-width:100px;display:inline;margin:1px\"/><img src=\"./thumbs/03084/v03084_s00009(f00007066-f00008732)_f00008162.jpg\" style=\"max-width:100px;display:inline;margin:1px\"/><img src=\"./thumbs/03084/v03084_s00009(f00007066-f00008732)_f00008425.jpg\" style=\"max-width:100px;display:inline;margin:1px\"/>"
      ],
      "text/plain": [
       "<IPython.core.display.HTML object>"
      ]
     },
     "metadata": {},
     "output_type": "display_data"
    },
    {
     "name": "stdout",
     "output_type": "stream",
     "text": [
      "------------------------------------\n",
      "\t*** Task ***\n",
      "\tname: v21-2\n",
      "\ttype: V\n",
      "\ttimestamps: (1624278710026, 1624279010026)\n",
      "\ttimes: (21-06-2021 14:31:50, 21-06-2021 14:36:50)\n",
      "\ttext: None\n",
      "\ttarget: *** TaskTarget ***\n",
      "\t\tvideo_ID: 1162\n",
      "\t\tinterval: (23050.0, 23700.0)\n",
      "\n",
      "\n"
     ]
    },
    {
     "data": {
      "text/html": [
       "<img src=\"./thumbs/01161/v01161_s00026(f00022233-f00023778)_f00023050.jpg\" style=\"max-width:100px;display:inline;margin:1px\"/><img src=\"./thumbs/01161/v01161_s00026(f00022233-f00023778)_f00023075.jpg\" style=\"max-width:100px;display:inline;margin:1px\"/><img src=\"./thumbs/01161/v01161_s00026(f00022233-f00023778)_f00023081.jpg\" style=\"max-width:100px;display:inline;margin:1px\"/><img src=\"./thumbs/01161/v01161_s00026(f00022233-f00023778)_f00023100.jpg\" style=\"max-width:100px;display:inline;margin:1px\"/><img src=\"./thumbs/01161/v01161_s00026(f00022233-f00023778)_f00023119.jpg\" style=\"max-width:100px;display:inline;margin:1px\"/><img src=\"./thumbs/01161/v01161_s00026(f00022233-f00023778)_f00023138.jpg\" style=\"max-width:100px;display:inline;margin:1px\"/><img src=\"./thumbs/01161/v01161_s00026(f00022233-f00023778)_f00023194.jpg\" style=\"max-width:100px;display:inline;margin:1px\"/><img src=\"./thumbs/01161/v01161_s00026(f00022233-f00023778)_f00023275.jpg\" style=\"max-width:100px;display:inline;margin:1px\"/><img src=\"./thumbs/01161/v01161_s00026(f00022233-f00023778)_f00023325.jpg\" style=\"max-width:100px;display:inline;margin:1px\"/><img src=\"./thumbs/01161/v01161_s00026(f00022233-f00023778)_f00023344.jpg\" style=\"max-width:100px;display:inline;margin:1px\"/><img src=\"./thumbs/01161/v01161_s00026(f00022233-f00023778)_f00023369.jpg\" style=\"max-width:100px;display:inline;margin:1px\"/><img src=\"./thumbs/01161/v01161_s00026(f00022233-f00023778)_f00023469.jpg\" style=\"max-width:100px;display:inline;margin:1px\"/><img src=\"./thumbs/01161/v01161_s00026(f00022233-f00023778)_f00023606.jpg\" style=\"max-width:100px;display:inline;margin:1px\"/><img src=\"./thumbs/01161/v01161_s00026(f00022233-f00023778)_f00023694.jpg\" style=\"max-width:100px;display:inline;margin:1px\"/>"
      ],
      "text/plain": [
       "<IPython.core.display.HTML object>"
      ]
     },
     "metadata": {},
     "output_type": "display_data"
    },
    {
     "name": "stdout",
     "output_type": "stream",
     "text": [
      "------------------------------------\n",
      "\t*** Task ***\n",
      "\tname: a21-9\n",
      "\ttype: A\n",
      "\ttimestamps: (1624279149067, 1624279449067)\n",
      "\ttimes: (21-06-2021 14:39:09, 21-06-2021 14:44:09)\n",
      "\ttext: Find shots of at least one person drinking beer.\n",
      "\ttarget: None\n",
      "\n",
      "------------------------------------\n",
      "\t*** Task ***\n",
      "\tname: t21-2\n",
      "\ttype: T\n",
      "\ttimestamps: (1624279524639, 1624279944639)\n",
      "\ttimes: (21-06-2021 14:45:24, 21-06-2021 14:52:24)\n",
      "\ttext: A hand opening and closing a window of a mountain hut. There are snow covered mountains outside. The weather is sunny, the shadow of the hut is visible in the snow.\n",
      "\n",
      "\ttarget: *** TaskTarget ***\n",
      "\t\tvideo_ID: 2224\n",
      "\t\tinterval: (2097.9021000000002, 2337.6623400000003)\n",
      "\n",
      "\n"
     ]
    },
    {
     "data": {
      "text/html": [
       "<img src=\"./thumbs/02223/v02223_s00017(f00002080-f00002380)_f00002098.jpg\" style=\"max-width:100px;display:inline;margin:1px\"/><img src=\"./thumbs/02223/v02223_s00017(f00002080-f00002380)_f00002180.jpg\" style=\"max-width:100px;display:inline;margin:1px\"/><img src=\"./thumbs/02223/v02223_s00017(f00002080-f00002380)_f00002255.jpg\" style=\"max-width:100px;display:inline;margin:1px\"/><img src=\"./thumbs/02223/v02223_s00017(f00002080-f00002380)_f00002330.jpg\" style=\"max-width:100px;display:inline;margin:1px\"/>"
      ],
      "text/plain": [
       "<IPython.core.display.HTML object>"
      ]
     },
     "metadata": {},
     "output_type": "display_data"
    },
    {
     "name": "stdout",
     "output_type": "stream",
     "text": [
      "------------------------------------\n",
      "\t*** Task ***\n",
      "\tname: v21-3\n",
      "\ttype: V\n",
      "\ttimestamps: (1624280086318, 1624280386318)\n",
      "\ttimes: (21-06-2021 14:54:46, 21-06-2021 14:59:46)\n",
      "\ttext: None\n",
      "\ttarget: *** TaskTarget ***\n",
      "\t\tvideo_ID: 5146\n",
      "\t\tinterval: (179.82018, 779.22078)\n",
      "\n",
      "\n"
     ]
    },
    {
     "data": {
      "text/html": [
       "<img src=\"./thumbs/05145/v05145_s00001(f00000018-f00001658)_f00000180.jpg\" style=\"max-width:100px;display:inline;margin:1px\"/><img src=\"./thumbs/05145/v05145_s00001(f00000018-f00001658)_f00000412.jpg\" style=\"max-width:100px;display:inline;margin:1px\"/><img src=\"./thumbs/05145/v05145_s00001(f00000018-f00001658)_f00000667.jpg\" style=\"max-width:100px;display:inline;margin:1px\"/><img src=\"./thumbs/05145/v05145_s00001(f00000018-f00001658)_f00000764.jpg\" style=\"max-width:100px;display:inline;margin:1px\"/>"
      ],
      "text/plain": [
       "<IPython.core.display.HTML object>"
      ]
     },
     "metadata": {},
     "output_type": "display_data"
    },
    {
     "name": "stdout",
     "output_type": "stream",
     "text": [
      "------------------------------------\n",
      "\t*** Task ***\n",
      "\tname: t21-7\n",
      "\ttype: T\n",
      "\ttimestamps: (1624280613622, 1624281033622)\n",
      "\ttimes: (21-06-2021 15:03:33, 21-06-2021 15:10:33)\n",
      "\ttext: A young man sitting outdoors and eating. He wears a dark T-shirt and silver headphones. It is evening, trees are visible behind him (out of focus).\n",
      "\n",
      "\ttarget: *** TaskTarget ***\n",
      "\t\tvideo_ID: 4316\n",
      "\t\tinterval: (33326.64, 33494.472)\n",
      "\n",
      "\n"
     ]
    },
    {
     "data": {
      "text/html": [
       "<img src=\"./thumbs/04315/v04315_s00273(f00033308-f00033502)_f00033405.jpg\" style=\"max-width:100px;display:inline;margin:1px\"/>"
      ],
      "text/plain": [
       "<IPython.core.display.HTML object>"
      ]
     },
     "metadata": {},
     "output_type": "display_data"
    },
    {
     "name": "stdout",
     "output_type": "stream",
     "text": [
      "------------------------------------\n",
      "\t*** Task ***\n",
      "\tname: a21-7\n",
      "\ttype: A\n",
      "\ttimestamps: (1624281095339, 1624281395339)\n",
      "\ttimes: (21-06-2021 15:11:35, 21-06-2021 15:16:35)\n",
      "\ttext: Find shots showing a sign with text (large enough to be readable)\n",
      "\ttarget: None\n",
      "\n",
      "------------------------------------\n",
      "\t*** Task ***\n",
      "\tname: a21-8\n",
      "\ttype: A\n",
      "\ttimestamps: (1624283832488, 1624284132488)\n",
      "\ttimes: (21-06-2021 15:57:12, 21-06-2021 16:02:12)\n",
      "\ttext: Find shots inside an airplane, showing at least one passenger.\n",
      "\ttarget: None\n",
      "\n",
      "------------------------------------\n",
      "\t*** Task ***\n",
      "\tname: v21-4\n",
      "\ttype: V\n",
      "\ttimestamps: (1624284220843, 1624284520843)\n",
      "\ttimes: (21-06-2021 16:03:40, 21-06-2021 16:08:40)\n",
      "\ttext: None\n",
      "\ttarget: *** TaskTarget ***\n",
      "\t\tvideo_ID: 3317\n",
      "\t\tinterval: (4450.0, 5075.0)\n",
      "\n",
      "\n"
     ]
    },
    {
     "data": {
      "text/html": [
       "<img src=\"./thumbs/03316/v03316_s00038(f00004433-f00004545)_f00004494.jpg\" style=\"max-width:100px;display:inline;margin:1px\"/><img src=\"./thumbs/03316/v03316_s00039(f00004546-f00004658)_f00004575.jpg\" style=\"max-width:100px;display:inline;margin:1px\"/><img src=\"./thumbs/03316/v03316_s00039(f00004546-f00004658)_f00004631.jpg\" style=\"max-width:100px;display:inline;margin:1px\"/><img src=\"./thumbs/03316/v03316_s00040(f00004659-f00004778)_f00004719.jpg\" style=\"max-width:100px;display:inline;margin:1px\"/><img src=\"./thumbs/03316/v03316_s00041(f00004779-f00004903)_f00004844.jpg\" style=\"max-width:100px;display:inline;margin:1px\"/><img src=\"./thumbs/03316/v03316_s00042(f00004904-f00005094)_f00004994.jpg\" style=\"max-width:100px;display:inline;margin:1px\"/>"
      ],
      "text/plain": [
       "<IPython.core.display.HTML object>"
      ]
     },
     "metadata": {},
     "output_type": "display_data"
    },
    {
     "name": "stdout",
     "output_type": "stream",
     "text": [
      "------------------------------------\n",
      "\t*** Task ***\n",
      "\tname: t21-3\n",
      "\ttype: T\n",
      "\ttimestamps: (1624284561630, 1624284981630)\n",
      "\ttimes: (21-06-2021 16:09:21, 21-06-2021 16:16:21)\n",
      "\ttext: Historic shots of a hurdle race and discus throwing. The video is in sepia tones. In the hurdle race, men run towards the camera, with bystanders on the sides.\n",
      "\n",
      "\ttarget: *** TaskTarget ***\n",
      "\t\tvideo_ID: 6228\n",
      "\t\tinterval: (0.0, 389.61039)\n",
      "\n",
      "\n"
     ]
    },
    {
     "data": {
      "text/html": [
       "<img src=\"./thumbs/06227/v06227_s00000(f00000000-f00000346)_f00000007.jpg\" style=\"max-width:100px;display:inline;margin:1px\"/><img src=\"./thumbs/06227/v06227_s00000(f00000000-f00000346)_f00000165.jpg\" style=\"max-width:100px;display:inline;margin:1px\"/><img src=\"./thumbs/06227/v06227_s00000(f00000000-f00000346)_f00000307.jpg\" style=\"max-width:100px;display:inline;margin:1px\"/><img src=\"./thumbs/06227/v06227_s00000(f00000000-f00000346)_f00000330.jpg\" style=\"max-width:100px;display:inline;margin:1px\"/><img src=\"./thumbs/06227/v06227_s00001(f00000347-f00000421)_f00000360.jpg\" style=\"max-width:100px;display:inline;margin:1px\"/><img src=\"./thumbs/06227/v06227_s00001(f00000347-f00000421)_f00000375.jpg\" style=\"max-width:100px;display:inline;margin:1px\"/>"
      ],
      "text/plain": [
       "<IPython.core.display.HTML object>"
      ]
     },
     "metadata": {},
     "output_type": "display_data"
    },
    {
     "name": "stdout",
     "output_type": "stream",
     "text": [
      "------------------------------------\n",
      "\t*** Task ***\n",
      "\tname: a21-1\n",
      "\ttype: A\n",
      "\ttimestamps: (1624285278073, 1624285578073)\n",
      "\ttimes: (21-06-2021 16:21:18, 21-06-2021 16:26:18)\n",
      "\ttext: Find outdoor shots of two women walking and talking to each other.\n",
      "\ttarget: None\n",
      "\n",
      "------------------------------------\n",
      "\t*** Task ***\n",
      "\tname: t21-4\n",
      "\ttype: T\n",
      "\ttimestamps: (1624285646178, 1624286066178)\n",
      "\ttimes: (21-06-2021 16:27:26, 21-06-2021 16:34:26)\n",
      "\ttext: An African man runs across a street with trees and parked cars, stops on the sidewalk and walks towards the camera. Video is black and white, in the first shots we see part of a bench. The man has dreadlocks, on the left of the sidewalk there is a low wall.\n",
      "\n",
      "\ttarget: *** TaskTarget ***\n",
      "\t\tvideo_ID: 6561\n",
      "\t\tinterval: (16750.0, 17225.0)\n",
      "\n",
      "\n"
     ]
    },
    {
     "data": {
      "text/html": [
       "<img src=\"./thumbs/06560/v06560_s00059(f00016731-f00017600)_f00016800.jpg\" style=\"max-width:100px;display:inline;margin:1px\"/><img src=\"./thumbs/06560/v06560_s00059(f00016731-f00017600)_f00016888.jpg\" style=\"max-width:100px;display:inline;margin:1px\"/><img src=\"./thumbs/06560/v06560_s00059(f00016731-f00017600)_f00017069.jpg\" style=\"max-width:100px;display:inline;margin:1px\"/>"
      ],
      "text/plain": [
       "<IPython.core.display.HTML object>"
      ]
     },
     "metadata": {},
     "output_type": "display_data"
    },
    {
     "name": "stdout",
     "output_type": "stream",
     "text": [
      "------------------------------------\n",
      "\t*** Task ***\n",
      "\tname: v21-5\n",
      "\ttype: V\n",
      "\ttimestamps: (1624286556757, 1624286856757)\n",
      "\ttimes: (21-06-2021 16:42:36, 21-06-2021 16:47:36)\n",
      "\ttext: None\n",
      "\ttarget: *** TaskTarget ***\n",
      "\t\tvideo_ID: 3870\n",
      "\t\tinterval: (4475.0, 5050.0)\n",
      "\n",
      "\n"
     ]
    },
    {
     "data": {
      "text/html": [
       "<img src=\"./thumbs/03869/v03869_s00023(f00004481-f00004534)_f00004506.jpg\" style=\"max-width:100px;display:inline;margin:1px\"/><img src=\"./thumbs/03869/v03869_s00024(f00004535-f00004567)_f00004550.jpg\" style=\"max-width:100px;display:inline;margin:1px\"/><img src=\"./thumbs/03869/v03869_s00025(f00004568-f00004583)_f00004575.jpg\" style=\"max-width:100px;display:inline;margin:1px\"/><img src=\"./thumbs/03869/v03869_s00026(f00004584-f00004596)_f00004594.jpg\" style=\"max-width:100px;display:inline;margin:1px\"/><img src=\"./thumbs/03869/v03869_s00027(f00004597-f00004615)_f00004606.jpg\" style=\"max-width:100px;display:inline;margin:1px\"/><img src=\"./thumbs/03869/v03869_s00028(f00004616-f00004655)_f00004638.jpg\" style=\"max-width:100px;display:inline;margin:1px\"/><img src=\"./thumbs/03869/v03869_s00029(f00004656-f00004706)_f00004681.jpg\" style=\"max-width:100px;display:inline;margin:1px\"/><img src=\"./thumbs/03869/v03869_s00030(f00004707-f00004739)_f00004725.jpg\" style=\"max-width:100px;display:inline;margin:1px\"/><img src=\"./thumbs/03869/v03869_s00031(f00004740-f00004753)_f00004750.jpg\" style=\"max-width:100px;display:inline;margin:1px\"/><img src=\"./thumbs/03869/v03869_s00032(f00004754-f00004770)_f00004762.jpg\" style=\"max-width:100px;display:inline;margin:1px\"/><img src=\"./thumbs/03869/v03869_s00033(f00004771-f00004813)_f00004794.jpg\" style=\"max-width:100px;display:inline;margin:1px\"/><img src=\"./thumbs/03869/v03869_s00034(f00004814-f00004886)_f00004825.jpg\" style=\"max-width:100px;display:inline;margin:1px\"/><img src=\"./thumbs/03869/v03869_s00034(f00004814-f00004886)_f00004856.jpg\" style=\"max-width:100px;display:inline;margin:1px\"/><img src=\"./thumbs/03869/v03869_s00035(f00004887-f00004949)_f00004900.jpg\" style=\"max-width:100px;display:inline;margin:1px\"/><img src=\"./thumbs/03869/v03869_s00035(f00004887-f00004949)_f00004931.jpg\" style=\"max-width:100px;display:inline;margin:1px\"/><img src=\"./thumbs/03869/v03869_s00036(f00004950-f00005044)_f00005000.jpg\" style=\"max-width:100px;display:inline;margin:1px\"/>"
      ],
      "text/plain": [
       "<IPython.core.display.HTML object>"
      ]
     },
     "metadata": {},
     "output_type": "display_data"
    },
    {
     "name": "stdout",
     "output_type": "stream",
     "text": [
      "------------------------------------\n",
      "\t*** Task ***\n",
      "\tname: t21-5\n",
      "\ttype: T\n",
      "\ttimestamps: (1624286913351, 1624287333351)\n",
      "\ttimes: (21-06-2021 16:48:33, 21-06-2021 16:55:33)\n",
      "\ttext: We see a black car approaching and stopping (shot from ground level), then a shot showing the man in the car follows. When the car stops in the first shot, we see the left wheel in focus, the rest blurred. The sitting in the car man wears a baseball cap and a jacket, the camera zooms to his face.\n",
      "\n",
      "\ttarget: *** TaskTarget ***\n",
      "\t\tvideo_ID: 7421\n",
      "\t\tinterval: (768.0, 1176.0)\n",
      "\n",
      "\n"
     ]
    },
    {
     "data": {
      "text/html": [
       "<img src=\"./thumbs/07420/v07420_s00008(f00000768-f00000978)_f00000804.jpg\" style=\"max-width:100px;display:inline;margin:1px\"/><img src=\"./thumbs/07420/v07420_s00008(f00000768-f00000978)_f00000912.jpg\" style=\"max-width:100px;display:inline;margin:1px\"/><img src=\"./thumbs/07420/v07420_s00009(f00000979-f00001204)_f00001092.jpg\" style=\"max-width:100px;display:inline;margin:1px\"/>"
      ],
      "text/plain": [
       "<IPython.core.display.HTML object>"
      ]
     },
     "metadata": {},
     "output_type": "display_data"
    },
    {
     "name": "stdout",
     "output_type": "stream",
     "text": [
      "------------------------------------\n",
      "\t*** Task ***\n",
      "\tname: v21-6\n",
      "\ttype: V\n",
      "\ttimestamps: (1624287415948, 1624287715948)\n",
      "\ttimes: (21-06-2021 16:56:55, 21-06-2021 17:01:55)\n",
      "\ttext: None\n",
      "\ttarget: *** TaskTarget ***\n",
      "\t\tvideo_ID: 88\n",
      "\t\tinterval: (7912.08792, 8421.57843)\n",
      "\n",
      "\n"
     ]
    },
    {
     "data": {
      "text/html": [
       "<img src=\"./thumbs/00087/v00087_s00116(f00007910-f00008027)_f00007972.jpg\" style=\"max-width:100px;display:inline;margin:1px\"/><img src=\"./thumbs/00087/v00087_s00117(f00008028-f00008059)_f00008047.jpg\" style=\"max-width:100px;display:inline;margin:1px\"/><img src=\"./thumbs/00087/v00087_s00118(f00008060-f00008092)_f00008077.jpg\" style=\"max-width:100px;display:inline;margin:1px\"/><img src=\"./thumbs/00087/v00087_s00119(f00008093-f00008158)_f00008129.jpg\" style=\"max-width:100px;display:inline;margin:1px\"/><img src=\"./thumbs/00087/v00087_s00120(f00008159-f00008227)_f00008197.jpg\" style=\"max-width:100px;display:inline;margin:1px\"/><img src=\"./thumbs/00087/v00087_s00121(f00008228-f00008293)_f00008264.jpg\" style=\"max-width:100px;display:inline;margin:1px\"/><img src=\"./thumbs/00087/v00087_s00122(f00008294-f00008325)_f00008309.jpg\" style=\"max-width:100px;display:inline;margin:1px\"/><img src=\"./thumbs/00087/v00087_s00123(f00008326-f00008358)_f00008347.jpg\" style=\"max-width:100px;display:inline;margin:1px\"/><img src=\"./thumbs/00087/v00087_s00124(f00008359-f00008391)_f00008377.jpg\" style=\"max-width:100px;display:inline;margin:1px\"/><img src=\"./thumbs/00087/v00087_s00125(f00008392-f00008442)_f00008414.jpg\" style=\"max-width:100px;display:inline;margin:1px\"/>"
      ],
      "text/plain": [
       "<IPython.core.display.HTML object>"
      ]
     },
     "metadata": {},
     "output_type": "display_data"
    },
    {
     "name": "stdout",
     "output_type": "stream",
     "text": [
      "------------------------------------\n",
      "\t*** Task ***\n",
      "\tname: v21-7\n",
      "\ttype: V\n",
      "\ttimestamps: (1624440790581, 1624441090581)\n",
      "\ttimes: (23-06-2021 11:33:10, 23-06-2021 11:38:10)\n",
      "\ttext: None\n",
      "\ttarget: *** TaskTarget ***\n",
      "\t\tvideo_ID: 4035\n",
      "\t\tinterval: (8871.12888, 9380.61939)\n",
      "\n",
      "\n"
     ]
    },
    {
     "data": {
      "text/html": [
       "<img src=\"./thumbs/04034/v04034_s00051(f00008870-f00009390)_f00008894.jpg\" style=\"max-width:100px;display:inline;margin:1px\"/><img src=\"./thumbs/04034/v04034_s00051(f00008870-f00009390)_f00008999.jpg\" style=\"max-width:100px;display:inline;margin:1px\"/><img src=\"./thumbs/04034/v04034_s00051(f00008870-f00009390)_f00009133.jpg\" style=\"max-width:100px;display:inline;margin:1px\"/><img src=\"./thumbs/04034/v04034_s00051(f00008870-f00009390)_f00009231.jpg\" style=\"max-width:100px;display:inline;margin:1px\"/><img src=\"./thumbs/04034/v04034_s00051(f00008870-f00009390)_f00009313.jpg\" style=\"max-width:100px;display:inline;margin:1px\"/><img src=\"./thumbs/04034/v04034_s00051(f00008870-f00009390)_f00009358.jpg\" style=\"max-width:100px;display:inline;margin:1px\"/><img src=\"./thumbs/04034/v04034_s00051(f00008870-f00009390)_f00009373.jpg\" style=\"max-width:100px;display:inline;margin:1px\"/>"
      ],
      "text/plain": [
       "<IPython.core.display.HTML object>"
      ]
     },
     "metadata": {},
     "output_type": "display_data"
    },
    {
     "name": "stdout",
     "output_type": "stream",
     "text": [
      "------------------------------------\n",
      "\t*** Task ***\n",
      "\tname: a21-2\n",
      "\ttype: A\n",
      "\ttimestamps: (1624441167899, 1624441467899)\n",
      "\ttimes: (23-06-2021 11:39:27, 23-06-2021 11:44:27)\n",
      "\ttext: Find shots of people having their hair done.\n",
      "\ttarget: None\n",
      "\n",
      "------------------------------------\n",
      "\t*** Task ***\n",
      "\tname: v21-8\n",
      "\ttype: V\n",
      "\ttimestamps: (1624441541770, 1624441841770)\n",
      "\ttimes: (23-06-2021 11:45:41, 23-06-2021 11:50:41)\n",
      "\ttext: None\n",
      "\ttarget: *** TaskTarget ***\n",
      "\t\tvideo_ID: 4979\n",
      "\t\tinterval: (8325.0, 8800.0)\n",
      "\n",
      "\n"
     ]
    },
    {
     "data": {
      "text/html": [
       "<img src=\"./thumbs/04978/v04978_s00069(f00008254-f00008644)_f00008638.jpg\" style=\"max-width:100px;display:inline;margin:1px\"/><img src=\"./thumbs/04978/v04978_s00072(f00008654-f00008753)_f00008662.jpg\" style=\"max-width:100px;display:inline;margin:1px\"/><img src=\"./thumbs/04978/v04978_s00072(f00008654-f00008753)_f00008706.jpg\" style=\"max-width:100px;display:inline;margin:1px\"/><img src=\"./thumbs/04978/v04978_s00072(f00008654-f00008753)_f00008750.jpg\" style=\"max-width:100px;display:inline;margin:1px\"/><img src=\"./thumbs/04978/v04978_s00073(f00008754-f00008773)_f00008756.jpg\" style=\"max-width:100px;display:inline;margin:1px\"/><img src=\"./thumbs/04978/v04978_s00073(f00008754-f00008773)_f00008762.jpg\" style=\"max-width:100px;display:inline;margin:1px\"/><img src=\"./thumbs/04978/v04978_s00073(f00008754-f00008773)_f00008769.jpg\" style=\"max-width:100px;display:inline;margin:1px\"/><img src=\"./thumbs/04978/v04978_s00074(f00008774-f00008860)_f00008775.jpg\" style=\"max-width:100px;display:inline;margin:1px\"/>"
      ],
      "text/plain": [
       "<IPython.core.display.HTML object>"
      ]
     },
     "metadata": {},
     "output_type": "display_data"
    },
    {
     "name": "stdout",
     "output_type": "stream",
     "text": [
      "------------------------------------\n",
      "\t*** Task ***\n",
      "\tname: v21-9\n",
      "\ttype: V\n",
      "\ttimestamps: (1624441993708, 1624442293708)\n",
      "\ttimes: (23-06-2021 11:53:13, 23-06-2021 11:58:13)\n",
      "\ttext: None\n",
      "\ttarget: *** TaskTarget ***\n",
      "\t\tvideo_ID: 1939\n",
      "\t\tinterval: (8012.5, 8700.0)\n",
      "\n",
      "\n"
     ]
    },
    {
     "data": {
      "text/html": [
       "<img src=\"./thumbs/01938/v01938_s00009(f00007446-f00009037)_f00008194.jpg\" style=\"max-width:100px;display:inline;margin:1px\"/><img src=\"./thumbs/01938/v01938_s00009(f00007446-f00009037)_f00008462.jpg\" style=\"max-width:100px;display:inline;margin:1px\"/><img src=\"./thumbs/01938/v01938_s00009(f00007446-f00009037)_f00008631.jpg\" style=\"max-width:100px;display:inline;margin:1px\"/>"
      ],
      "text/plain": [
       "<IPython.core.display.HTML object>"
      ]
     },
     "metadata": {},
     "output_type": "display_data"
    },
    {
     "name": "stdout",
     "output_type": "stream",
     "text": [
      "------------------------------------\n",
      "\t*** Task ***\n",
      "\tname: v21-10\n",
      "\ttype: V\n",
      "\ttimestamps: (1624442363512, 1624442663512)\n",
      "\ttimes: (23-06-2021 11:59:23, 23-06-2021 12:04:23)\n",
      "\ttext: None\n",
      "\ttarget: *** TaskTarget ***\n",
      "\t\tvideo_ID: 4225\n",
      "\t\tinterval: (3926.07393, 4315.68432)\n",
      "\n",
      "\n"
     ]
    },
    {
     "data": {
      "text/html": [
       "<img src=\"./thumbs/04224/v04224_s00007(f00003840-f00004082)_f00003964.jpg\" style=\"max-width:100px;display:inline;margin:1px\"/><img src=\"./thumbs/04224/v04224_s00008(f00004083-f00004344)_f00004211.jpg\" style=\"max-width:100px;display:inline;margin:1px\"/>"
      ],
      "text/plain": [
       "<IPython.core.display.HTML object>"
      ]
     },
     "metadata": {},
     "output_type": "display_data"
    },
    {
     "name": "stdout",
     "output_type": "stream",
     "text": [
      "------------------------------------\n",
      "\t*** Task ***\n",
      "\tname: v21-11\n",
      "\ttype: V\n",
      "\ttimestamps: (1624442760854, 1624443060854)\n",
      "\ttimes: (23-06-2021 12:06:00, 23-06-2021 12:11:00)\n",
      "\ttext: None\n",
      "\ttarget: *** TaskTarget ***\n",
      "\t\tvideo_ID: 6979\n",
      "\t\tinterval: (2925.072, 3332.6639999999998)\n",
      "\n",
      "\n"
     ]
    },
    {
     "data": {
      "text/html": [
       "<img src=\"./thumbs/06978/v06978_s00052(f00002922-f00003015)_f00002973.jpg\" style=\"max-width:100px;display:inline;margin:1px\"/><img src=\"./thumbs/06978/v06978_s00054(f00003022-f00003136)_f00003027.jpg\" style=\"max-width:100px;display:inline;margin:1px\"/><img src=\"./thumbs/06978/v06978_s00054(f00003022-f00003136)_f00003087.jpg\" style=\"max-width:100px;display:inline;margin:1px\"/><img src=\"./thumbs/06978/v06978_s00055(f00003137-f00003245)_f00003195.jpg\" style=\"max-width:100px;display:inline;margin:1px\"/><img src=\"./thumbs/06978/v06978_s00056(f00003246-f00003354)_f00003303.jpg\" style=\"max-width:100px;display:inline;margin:1px\"/>"
      ],
      "text/plain": [
       "<IPython.core.display.HTML object>"
      ]
     },
     "metadata": {},
     "output_type": "display_data"
    },
    {
     "name": "stdout",
     "output_type": "stream",
     "text": [
      "------------------------------------\n",
      "\t*** Task ***\n",
      "\tname: v21-12\n",
      "\ttype: V\n",
      "\ttimestamps: (1624443154781, 1624443454781)\n",
      "\ttimes: (23-06-2021 12:12:34, 23-06-2021 12:17:34)\n",
      "\ttext: None\n",
      "\ttarget: *** TaskTarget ***\n",
      "\t\tvideo_ID: 4888\n",
      "\t\tinterval: (4975.0, 5450.0)\n",
      "\n",
      "\n"
     ]
    },
    {
     "data": {
      "text/html": [
       "<img src=\"./thumbs/04887/v04887_s00033(f00004939-f00005016)_f00004988.jpg\" style=\"max-width:100px;display:inline;margin:1px\"/><img src=\"./thumbs/04887/v04887_s00033(f00004939-f00005016)_f00005012.jpg\" style=\"max-width:100px;display:inline;margin:1px\"/><img src=\"./thumbs/04887/v04887_s00034(f00005017-f00005210)_f00005038.jpg\" style=\"max-width:100px;display:inline;margin:1px\"/><img src=\"./thumbs/04887/v04887_s00034(f00005017-f00005210)_f00005062.jpg\" style=\"max-width:100px;display:inline;margin:1px\"/><img src=\"./thumbs/04887/v04887_s00034(f00005017-f00005210)_f00005075.jpg\" style=\"max-width:100px;display:inline;margin:1px\"/><img src=\"./thumbs/04887/v04887_s00034(f00005017-f00005210)_f00005094.jpg\" style=\"max-width:100px;display:inline;margin:1px\"/><img src=\"./thumbs/04887/v04887_s00034(f00005017-f00005210)_f00005131.jpg\" style=\"max-width:100px;display:inline;margin:1px\"/><img src=\"./thumbs/04887/v04887_s00034(f00005017-f00005210)_f00005162.jpg\" style=\"max-width:100px;display:inline;margin:1px\"/><img src=\"./thumbs/04887/v04887_s00034(f00005017-f00005210)_f00005194.jpg\" style=\"max-width:100px;display:inline;margin:1px\"/><img src=\"./thumbs/04887/v04887_s00035(f00005211-f00005733)_f00005269.jpg\" style=\"max-width:100px;display:inline;margin:1px\"/><img src=\"./thumbs/04887/v04887_s00035(f00005211-f00005733)_f00005369.jpg\" style=\"max-width:100px;display:inline;margin:1px\"/><img src=\"./thumbs/04887/v04887_s00035(f00005211-f00005733)_f00005412.jpg\" style=\"max-width:100px;display:inline;margin:1px\"/><img src=\"./thumbs/04887/v04887_s00035(f00005211-f00005733)_f00005438.jpg\" style=\"max-width:100px;display:inline;margin:1px\"/>"
      ],
      "text/plain": [
       "<IPython.core.display.HTML object>"
      ]
     },
     "metadata": {},
     "output_type": "display_data"
    },
    {
     "name": "stdout",
     "output_type": "stream",
     "text": [
      "------------------------------------\n",
      "\t*** Task ***\n",
      "\tname: v21-13\n",
      "\ttype: V\n",
      "\ttimestamps: (1624443516404, 1624443816404)\n",
      "\ttimes: (23-06-2021 12:18:36, 23-06-2021 12:23:36)\n",
      "\ttext: None\n",
      "\ttarget: *** TaskTarget ***\n",
      "\t\tvideo_ID: 2034\n",
      "\t\tinterval: (950.0, 1425.0)\n",
      "\n",
      "\n"
     ]
    },
    {
     "data": {
      "text/html": [
       "<img src=\"./thumbs/02033/v02033_s00016(f00000948-f00001023)_f00000969.jpg\" style=\"max-width:100px;display:inline;margin:1px\"/><img src=\"./thumbs/02033/v02033_s00016(f00000948-f00001023)_f00001006.jpg\" style=\"max-width:100px;display:inline;margin:1px\"/><img src=\"./thumbs/02033/v02033_s00017(f00001024-f00001043)_f00001031.jpg\" style=\"max-width:100px;display:inline;margin:1px\"/><img src=\"./thumbs/02033/v02033_s00018(f00001044-f00001099)_f00001069.jpg\" style=\"max-width:100px;display:inline;margin:1px\"/><img src=\"./thumbs/02033/v02033_s00019(f00001100-f00001183)_f00001119.jpg\" style=\"max-width:100px;display:inline;margin:1px\"/><img src=\"./thumbs/02033/v02033_s00019(f00001100-f00001183)_f00001162.jpg\" style=\"max-width:100px;display:inline;margin:1px\"/><img src=\"./thumbs/02033/v02033_s00020(f00001184-f00001207)_f00001200.jpg\" style=\"max-width:100px;display:inline;margin:1px\"/><img src=\"./thumbs/02033/v02033_s00021(f00001208-f00001236)_f00001225.jpg\" style=\"max-width:100px;display:inline;margin:1px\"/><img src=\"./thumbs/02033/v02033_s00022(f00001237-f00001273)_f00001238.jpg\" style=\"max-width:100px;display:inline;margin:1px\"/><img src=\"./thumbs/02033/v02033_s00022(f00001237-f00001273)_f00001256.jpg\" style=\"max-width:100px;display:inline;margin:1px\"/><img src=\"./thumbs/02033/v02033_s00023(f00001274-f00001327)_f00001300.jpg\" style=\"max-width:100px;display:inline;margin:1px\"/><img src=\"./thumbs/02033/v02033_s00024(f00001328-f00001380)_f00001356.jpg\" style=\"max-width:100px;display:inline;margin:1px\"/><img src=\"./thumbs/02033/v02033_s00025(f00001381-f00001501)_f00001406.jpg\" style=\"max-width:100px;display:inline;margin:1px\"/>"
      ],
      "text/plain": [
       "<IPython.core.display.HTML object>"
      ]
     },
     "metadata": {},
     "output_type": "display_data"
    },
    {
     "name": "stdout",
     "output_type": "stream",
     "text": [
      "------------------------------------\n",
      "\t*** Task ***\n",
      "\tname: a21-3\n",
      "\ttype: A\n",
      "\ttimestamps: (1624443879008, 1624444179008)\n",
      "\ttimes: (23-06-2021 12:24:39, 23-06-2021 12:29:39)\n",
      "\ttext: Find shots of a person skiing, with his/her own skis in the picture.\n",
      "\ttarget: None\n",
      "\n",
      "------------------------------------\n",
      "\t*** Task ***\n",
      "\tname: v21-14\n",
      "\ttype: V\n",
      "\ttimestamps: (1624444377137, 1624444677137)\n",
      "\ttimes: (23-06-2021 12:32:57, 23-06-2021 12:37:57)\n",
      "\ttext: None\n",
      "\ttarget: *** TaskTarget ***\n",
      "\t\tvideo_ID: 2519\n",
      "\t\tinterval: (720.0, 1170.0)\n",
      "\n",
      "\n"
     ]
    },
    {
     "data": {
      "text/html": [
       "<img src=\"./thumbs/02518/v02518_s00013(f00000716-f00000742)_f00000735.jpg\" style=\"max-width:100px;display:inline;margin:1px\"/><img src=\"./thumbs/02518/v02518_s00014(f00000743-f00000766)_f00000758.jpg\" style=\"max-width:100px;display:inline;margin:1px\"/><img src=\"./thumbs/02518/v02518_s00015(f00000767-f00000866)_f00000818.jpg\" style=\"max-width:100px;display:inline;margin:1px\"/><img src=\"./thumbs/02518/v02518_s00016(f00000867-f00000926)_f00000900.jpg\" style=\"max-width:100px;display:inline;margin:1px\"/><img src=\"./thumbs/02518/v02518_s00017(f00000927-f00000952)_f00000945.jpg\" style=\"max-width:100px;display:inline;margin:1px\"/><img src=\"./thumbs/02518/v02518_s00018(f00000953-f00000977)_f00000968.jpg\" style=\"max-width:100px;display:inline;margin:1px\"/><img src=\"./thumbs/02518/v02518_s00019(f00000978-f00001009)_f00000998.jpg\" style=\"max-width:100px;display:inline;margin:1px\"/><img src=\"./thumbs/02518/v02518_s00020(f00001010-f00001025)_f00001020.jpg\" style=\"max-width:100px;display:inline;margin:1px\"/><img src=\"./thumbs/02518/v02518_s00021(f00001026-f00001047)_f00001035.jpg\" style=\"max-width:100px;display:inline;margin:1px\"/><img src=\"./thumbs/02518/v02518_s00022(f00001048-f00001061)_f00001058.jpg\" style=\"max-width:100px;display:inline;margin:1px\"/><img src=\"./thumbs/02518/v02518_s00023(f00001062-f00001080)_f00001072.jpg\" style=\"max-width:100px;display:inline;margin:1px\"/><img src=\"./thumbs/02518/v02518_s00025(f00001093-f00001106)_f00001102.jpg\" style=\"max-width:100px;display:inline;margin:1px\"/><img src=\"./thumbs/02518/v02518_s00026(f00001107-f00001185)_f00001148.jpg\" style=\"max-width:100px;display:inline;margin:1px\"/>"
      ],
      "text/plain": [
       "<IPython.core.display.HTML object>"
      ]
     },
     "metadata": {},
     "output_type": "display_data"
    },
    {
     "name": "stdout",
     "output_type": "stream",
     "text": [
      "------------------------------------\n",
      "\t*** Task ***\n",
      "\tname: a21-10\n",
      "\ttype: A\n",
      "\ttimestamps: (1624446978040, 1624447278040)\n",
      "\ttimes: (23-06-2021 13:16:18, 23-06-2021 13:21:18)\n",
      "\ttext: Find shots of two adult men hugging each other.\n",
      "\ttarget: None\n",
      "\n",
      "------------------------------------\n",
      "\t*** Task ***\n",
      "\tname: v21-15\n",
      "\ttype: V\n",
      "\ttimestamps: (1624447335063, 1624447635063)\n",
      "\ttimes: (23-06-2021 13:22:15, 23-06-2021 13:27:15)\n",
      "\ttext: None\n",
      "\ttarget: *** TaskTarget ***\n",
      "\t\tvideo_ID: 7116\n",
      "\t\tinterval: (3386.61339, 3836.16384)\n",
      "\n",
      "\n"
     ]
    },
    {
     "data": {
      "text/html": [
       "<img src=\"./thumbs/07115/v07115_s00020(f00003032-f00003398)_f00003387.jpg\" style=\"max-width:100px;display:inline;margin:1px\"/><img src=\"./thumbs/07115/v07115_s00020(f00003032-f00003398)_f00003394.jpg\" style=\"max-width:100px;display:inline;margin:1px\"/><img src=\"./thumbs/07115/v07115_s00021(f00003400-f00004008)_f00003402.jpg\" style=\"max-width:100px;display:inline;margin:1px\"/><img src=\"./thumbs/07115/v07115_s00021(f00003400-f00004008)_f00003417.jpg\" style=\"max-width:100px;display:inline;margin:1px\"/><img src=\"./thumbs/07115/v07115_s00021(f00003400-f00004008)_f00003439.jpg\" style=\"max-width:100px;display:inline;margin:1px\"/><img src=\"./thumbs/07115/v07115_s00021(f00003400-f00004008)_f00003454.jpg\" style=\"max-width:100px;display:inline;margin:1px\"/><img src=\"./thumbs/07115/v07115_s00021(f00003400-f00004008)_f00003477.jpg\" style=\"max-width:100px;display:inline;margin:1px\"/><img src=\"./thumbs/07115/v07115_s00021(f00003400-f00004008)_f00003529.jpg\" style=\"max-width:100px;display:inline;margin:1px\"/><img src=\"./thumbs/07115/v07115_s00021(f00003400-f00004008)_f00003574.jpg\" style=\"max-width:100px;display:inline;margin:1px\"/><img src=\"./thumbs/07115/v07115_s00021(f00003400-f00004008)_f00003581.jpg\" style=\"max-width:100px;display:inline;margin:1px\"/><img src=\"./thumbs/07115/v07115_s00021(f00003400-f00004008)_f00003604.jpg\" style=\"max-width:100px;display:inline;margin:1px\"/><img src=\"./thumbs/07115/v07115_s00021(f00003400-f00004008)_f00003641.jpg\" style=\"max-width:100px;display:inline;margin:1px\"/><img src=\"./thumbs/07115/v07115_s00021(f00003400-f00004008)_f00003671.jpg\" style=\"max-width:100px;display:inline;margin:1px\"/><img src=\"./thumbs/07115/v07115_s00021(f00003400-f00004008)_f00003716.jpg\" style=\"max-width:100px;display:inline;margin:1px\"/><img src=\"./thumbs/07115/v07115_s00021(f00003400-f00004008)_f00003761.jpg\" style=\"max-width:100px;display:inline;margin:1px\"/><img src=\"./thumbs/07115/v07115_s00021(f00003400-f00004008)_f00003769.jpg\" style=\"max-width:100px;display:inline;margin:1px\"/><img src=\"./thumbs/07115/v07115_s00021(f00003400-f00004008)_f00003814.jpg\" style=\"max-width:100px;display:inline;margin:1px\"/>"
      ],
      "text/plain": [
       "<IPython.core.display.HTML object>"
      ]
     },
     "metadata": {},
     "output_type": "display_data"
    },
    {
     "name": "stdout",
     "output_type": "stream",
     "text": [
      "------------------------------------\n",
      "\t*** Task ***\n",
      "\tname: a21-4\n",
      "\ttype: A\n",
      "\ttimestamps: (1624447710260, 1624448010260)\n",
      "\ttimes: (23-06-2021 13:28:30, 23-06-2021 13:33:30)\n",
      "\ttext: Find shots of kids playing football (soccer).\n",
      "\ttarget: None\n",
      "\n",
      "------------------------------------\n",
      "\t*** Task ***\n",
      "\tname: v21-16\n",
      "\ttype: V\n",
      "\ttimestamps: (1624448185021, 1624448485021)\n",
      "\ttimes: (23-06-2021 13:36:25, 23-06-2021 13:41:25)\n",
      "\ttext: None\n",
      "\ttarget: *** TaskTarget ***\n",
      "\t\tvideo_ID: 6246\n",
      "\t\tinterval: (527.472, 839.16)\n",
      "\n",
      "\n"
     ]
    },
    {
     "data": {
      "text/html": [
       "<img src=\"./thumbs/06245/v06245_s00004(f00000523-f00000633)_f00000581.jpg\" style=\"max-width:100px;display:inline;margin:1px\"/><img src=\"./thumbs/06245/v06245_s00004(f00000523-f00000633)_f00000629.jpg\" style=\"max-width:100px;display:inline;margin:1px\"/><img src=\"./thumbs/06245/v06245_s00005(f00000636-f00000865)_f00000641.jpg\" style=\"max-width:100px;display:inline;margin:1px\"/><img src=\"./thumbs/06245/v06245_s00005(f00000636-f00000865)_f00000665.jpg\" style=\"max-width:100px;display:inline;margin:1px\"/><img src=\"./thumbs/06245/v06245_s00005(f00000636-f00000865)_f00000773.jpg\" style=\"max-width:100px;display:inline;margin:1px\"/>"
      ],
      "text/plain": [
       "<IPython.core.display.HTML object>"
      ]
     },
     "metadata": {},
     "output_type": "display_data"
    },
    {
     "name": "stdout",
     "output_type": "stream",
     "text": [
      "------------------------------------\n",
      "\t*** Task ***\n",
      "\tname: v21-17\n",
      "\ttype: V\n",
      "\ttimestamps: (1624448569543, 1624448869543)\n",
      "\ttimes: (23-06-2021 13:42:49, 23-06-2021 13:47:49)\n",
      "\ttext: None\n",
      "\ttarget: *** TaskTarget ***\n",
      "\t\tvideo_ID: 3331\n",
      "\t\tinterval: (1198.8, 1486.512)\n",
      "\n",
      "\n"
     ]
    },
    {
     "data": {
      "text/html": [
       "<img src=\"./thumbs/03330/v03330_s00005(f00001187-f00001883)_f00001355.jpg\" style=\"max-width:100px;display:inline;margin:1px\"/>"
      ],
      "text/plain": [
       "<IPython.core.display.HTML object>"
      ]
     },
     "metadata": {},
     "output_type": "display_data"
    },
    {
     "name": "stdout",
     "output_type": "stream",
     "text": [
      "------------------------------------\n",
      "\t*** Task ***\n",
      "\tname: a21-11\n",
      "\ttype: A\n",
      "\ttimestamps: (1624448946650, 1624449246650)\n",
      "\ttimes: (23-06-2021 13:49:06, 23-06-2021 13:54:06)\n",
      "\ttext: Find shots of people skiing, shot with the camera looking into the sun (back-lit shot, possibly with lens flare).\n",
      "\ttarget: None\n",
      "\n",
      "------------------------------------\n",
      "\t*** Task ***\n",
      "\tname: v21-18\n",
      "\ttype: V\n",
      "\ttimestamps: (1624449356322, 1624449656322)\n",
      "\ttimes: (23-06-2021 13:55:56, 23-06-2021 14:00:56)\n",
      "\ttext: None\n",
      "\ttarget: *** TaskTarget ***\n",
      "\t\tvideo_ID: 5531\n",
      "\t\tinterval: (1850.0, 2175.0)\n",
      "\n",
      "\n"
     ]
    },
    {
     "data": {
      "text/html": [
       "<img src=\"./thumbs/05530/v05530_s00046(f00001830-f00001879)_f00001856.jpg\" style=\"max-width:100px;display:inline;margin:1px\"/><img src=\"./thumbs/05530/v05530_s00047(f00001880-f00001954)_f00001900.jpg\" style=\"max-width:100px;display:inline;margin:1px\"/><img src=\"./thumbs/05530/v05530_s00047(f00001880-f00001954)_f00001938.jpg\" style=\"max-width:100px;display:inline;margin:1px\"/><img src=\"./thumbs/05530/v05530_s00048(f00001955-f00001979)_f00001969.jpg\" style=\"max-width:100px;display:inline;margin:1px\"/><img src=\"./thumbs/05530/v05530_s00049(f00001980-f00002019)_f00002000.jpg\" style=\"max-width:100px;display:inline;margin:1px\"/><img src=\"./thumbs/05530/v05530_s00050(f00002020-f00002079)_f00002025.jpg\" style=\"max-width:100px;display:inline;margin:1px\"/><img src=\"./thumbs/05530/v05530_s00050(f00002020-f00002079)_f00002031.jpg\" style=\"max-width:100px;display:inline;margin:1px\"/><img src=\"./thumbs/05530/v05530_s00050(f00002020-f00002079)_f00002056.jpg\" style=\"max-width:100px;display:inline;margin:1px\"/><img src=\"./thumbs/05530/v05530_s00051(f00002080-f00002128)_f00002106.jpg\" style=\"max-width:100px;display:inline;margin:1px\"/><img src=\"./thumbs/05530/v05530_s00052(f00002129-f00002180)_f00002156.jpg\" style=\"max-width:100px;display:inline;margin:1px\"/>"
      ],
      "text/plain": [
       "<IPython.core.display.HTML object>"
      ]
     },
     "metadata": {},
     "output_type": "display_data"
    },
    {
     "name": "stdout",
     "output_type": "stream",
     "text": [
      "------------------------------------\n",
      "\t*** Task ***\n",
      "\tname: v21-19\n",
      "\ttype: V\n",
      "\ttimestamps: (1624450582353, 1624450882353)\n",
      "\ttimes: (23-06-2021 14:16:22, 23-06-2021 14:21:22)\n",
      "\ttext: None\n",
      "\ttarget: *** TaskTarget ***\n",
      "\t\tvideo_ID: 2464\n",
      "\t\tinterval: (5825.0, 6325.0)\n",
      "\n",
      "\n"
     ]
    },
    {
     "data": {
      "text/html": [
       "<img src=\"./thumbs/02463/v02463_s00000(f00000000-f00008002)_f00005894.jpg\" style=\"max-width:100px;display:inline;margin:1px\"/><img src=\"./thumbs/02463/v02463_s00000(f00000000-f00008002)_f00006269.jpg\" style=\"max-width:100px;display:inline;margin:1px\"/>"
      ],
      "text/plain": [
       "<IPython.core.display.HTML object>"
      ]
     },
     "metadata": {},
     "output_type": "display_data"
    },
    {
     "name": "stdout",
     "output_type": "stream",
     "text": [
      "------------------------------------\n",
      "\t*** Task ***\n",
      "\tname: v21-20\n",
      "\ttype: V\n",
      "\ttimestamps: (1624451061608, 1624451361608)\n",
      "\ttimes: (23-06-2021 14:24:21, 23-06-2021 14:29:21)\n",
      "\ttext: None\n",
      "\ttarget: *** TaskTarget ***\n",
      "\t\tvideo_ID: 6827\n",
      "\t\tinterval: (4531.464, 4891.103999999999)\n",
      "\n",
      "\n"
     ]
    },
    {
     "data": {
      "text/html": [
       "<img src=\"./thumbs/06826/v06826_s00049(f00004518-f00004566)_f00004543.jpg\" style=\"max-width:100px;display:inline;margin:1px\"/><img src=\"./thumbs/06826/v06826_s00050(f00004567-f00004646)_f00004609.jpg\" style=\"max-width:100px;display:inline;margin:1px\"/><img src=\"./thumbs/06826/v06826_s00051(f00004647-f00004741)_f00004699.jpg\" style=\"max-width:100px;display:inline;margin:1px\"/><img src=\"./thumbs/06826/v06826_s00052(f00004742-f00004911)_f00004771.jpg\" style=\"max-width:100px;display:inline;margin:1px\"/><img src=\"./thumbs/06826/v06826_s00052(f00004742-f00004911)_f00004795.jpg\" style=\"max-width:100px;display:inline;margin:1px\"/><img src=\"./thumbs/06826/v06826_s00052(f00004742-f00004911)_f00004813.jpg\" style=\"max-width:100px;display:inline;margin:1px\"/><img src=\"./thumbs/06826/v06826_s00052(f00004742-f00004911)_f00004867.jpg\" style=\"max-width:100px;display:inline;margin:1px\"/>"
      ],
      "text/plain": [
       "<IPython.core.display.HTML object>"
      ]
     },
     "metadata": {},
     "output_type": "display_data"
    },
    {
     "name": "stdout",
     "output_type": "stream",
     "text": [
      "------------------------------------\n",
      "\t*** Task ***\n",
      "\tname: a21-6\n",
      "\ttype: A\n",
      "\ttimestamps: (1624451557507, 1624451857507)\n",
      "\ttimes: (23-06-2021 14:32:37, 23-06-2021 14:37:37)\n",
      "\ttext: Find underwater shots of one or more fish.\n",
      "\ttarget: None\n",
      "\n",
      "------------------------------------\n",
      "\t*** Task ***\n",
      "\tname: v21-21\n",
      "\ttype: V\n",
      "\ttimestamps: (1624451948839, 1624452248839)\n",
      "\ttimes: (23-06-2021 14:39:08, 23-06-2021 14:44:08)\n",
      "\ttext: None\n",
      "\ttarget: *** TaskTarget ***\n",
      "\t\tvideo_ID: 3885\n",
      "\t\tinterval: (6458.541465, 6863.13687)\n",
      "\n",
      "\n"
     ]
    },
    {
     "data": {
      "text/html": [
       "<img src=\"./thumbs/03884/v03884_s00020(f00006539-f00006660)_f00006601.jpg\" style=\"max-width:100px;display:inline;margin:1px\"/><img src=\"./thumbs/03884/v03884_s00021(f00006661-f00006783)_f00006721.jpg\" style=\"max-width:100px;display:inline;margin:1px\"/><img src=\"./thumbs/03884/v03884_s00022(f00006784-f00006842)_f00006818.jpg\" style=\"max-width:100px;display:inline;margin:1px\"/>"
      ],
      "text/plain": [
       "<IPython.core.display.HTML object>"
      ]
     },
     "metadata": {},
     "output_type": "display_data"
    },
    {
     "name": "stdout",
     "output_type": "stream",
     "text": [
      "------------------------------------\n"
     ]
    }
   ],
   "source": [
    "data = Data()\n",
    "data.print_tasks()"
   ]
  },
  {
   "cell_type": "code",
   "execution_count": 16,
   "metadata": {
    "scrolled": true
   },
   "outputs": [
    {
     "name": "stdout",
     "output_type": "stream",
     "text": [
      "==============\n",
      "TEAM: SOMHunter\n",
      "\n",
      "%%% CALCULATING SERVER TS DIFF %%%\n",
      "---\n",
      "\t +++ sh-patrik +++ \n",
      "\tDATA: ./data/sh-patrik \n",
      "\n",
      "\t--- DIR: actions ---\n",
      "\t--- DONE. ---\n",
      "---\n",
      "\t +++ sh-vit +++ \n",
      "\tDATA: ./data/sh-vit \n",
      "\n",
      "\t--- DIR: actions ---\n",
      "\t--- DONE. ---\n",
      "DIFF MIN FOR sh-patrik: -123\n",
      "DIFF MIN FOR sh-vit: 1\n",
      "%%% DONE! %%%\n"
     ]
    }
   ],
   "source": [
    "\n",
    "data.parse_team(\"SOMHunter\", \n",
    "                  [\"sh-patrik\", \"sh-vit\"], \n",
    "                  verbose=True, \n",
    "                  validate_fix=False,\n",
    "                  generate_DRES=False\n",
    "                 )\n"
   ]
  },
  {
   "cell_type": "code",
   "execution_count": null,
   "metadata": {
    "scrolled": false
   },
   "outputs": [],
   "source": []
  },
  {
   "cell_type": "code",
   "execution_count": 17,
   "metadata": {},
   "outputs": [
    {
     "name": "stdout",
     "output_type": "stream",
     "text": [
      "21-06-2021 14:10:58\n",
      "21-06-2021 14:15:58\n"
     ]
    }
   ],
   "source": [
    "print(utils.from_UNIX(1624277458765))\n",
    "print(utils.from_UNIX(1624277758765))\n"
   ]
  },
  {
   "cell_type": "code",
   "execution_count": 18,
   "metadata": {},
   "outputs": [
    {
     "name": "stdout",
     "output_type": "stream",
     "text": [
      "==============\n",
      "TEAM: CollageHunter\n",
      "\n",
      "%%% CALCULATING SERVER TS DIFF %%%\n",
      "---\n",
      "\t +++ collage-jakub +++ \n",
      "\tDATA: ./data/collage-jakub \n",
      "\n",
      "\t--- DIR: actions ---\n",
      "\t--- DONE. ---\n",
      "---\n",
      "\t +++ collage-premek +++ \n",
      "\tDATA: ./data/collage-premek \n",
      "\n",
      "\t--- DIR: actions ---\n",
      "\t--- DONE. ---\n",
      "DIFF MIN FOR collage-jakub: 14\n",
      "DIFF MIN FOR collage-premek: 5\n",
      "%%% DONE! %%%\n"
     ]
    }
   ],
   "source": [
    "data.parse_team(\"CollageHunter\", \n",
    "                  [\"collage-jakub\", \"collage-premek\"], \n",
    "                  verbose=True, \n",
    "                  validate_fix=False, \n",
    "                  generate_DRES=False\n",
    "                 )"
   ]
  },
  {
   "cell_type": "code",
   "execution_count": 19,
   "metadata": {},
   "outputs": [
    {
     "name": "stdout",
     "output_type": "stream",
     "text": [
      "==============\n",
      "TEAM: LegacySOMHunter\n",
      "\n",
      "%%% CALCULATING SERVER TS DIFF %%%\n",
      "---\n",
      "\t +++ legacy-tereza +++ \n",
      "\tDATA: ./data/legacy-tereza \n",
      "\n",
      "\t--- DIR: actions ---\n",
      "\t--- DONE. ---\n",
      "---\n",
      "\t +++ legacy-franta-tomas +++ \n",
      "\tDATA: ./data/legacy-franta-tomas \n",
      "\n",
      "\t--- DIR: actions ---\n",
      "\t--- DONE. ---\n",
      "DIFF MIN FOR legacy-tereza: 3\n",
      "DIFF MIN FOR legacy-franta-tomas: 1\n",
      "%%% DONE! %%%\n"
     ]
    }
   ],
   "source": [
    "data.parse_team(\"LegacySOMHunter\", \n",
    "                  [\"legacy-tereza\", \"legacy-franta-tomas\"], \n",
    "                  verbose=True, \n",
    "                  validate_fix=False, \n",
    "                  generate_DRES=False\n",
    "                 )"
   ]
  },
  {
   "cell_type": "code",
   "execution_count": null,
   "metadata": {},
   "outputs": [],
   "source": []
  },
  {
   "cell_type": "code",
   "execution_count": null,
   "metadata": {},
   "outputs": [],
   "source": []
  }
 ],
 "metadata": {
  "kernelspec": {
   "display_name": "Python 3",
   "language": "python",
   "name": "python3"
  },
  "language_info": {
   "codemirror_mode": {
    "name": "ipython",
    "version": 3
   },
   "file_extension": ".py",
   "mimetype": "text/x-python",
   "name": "python",
   "nbconvert_exporter": "python",
   "pygments_lexer": "ipython3",
   "version": "3.8.3"
  }
 },
 "nbformat": 4,
 "nbformat_minor": 4
}
