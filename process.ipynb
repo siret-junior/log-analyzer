{
 "cells": [
  {
   "cell_type": "code",
   "execution_count": 1,
   "metadata": {},
   "outputs": [],
   "source": [
    "import numpy as np\n",
    "import csv\n",
    "import json\n",
    "import os \n",
    "import datetime\n",
    "import matplotlib.pyplot as plt\n",
    "import seaborn as sb\n",
    "import shutil\n",
    "\n",
    "from IPython.display import Image, display, HTML\n",
    "\n",
    "import pprint \n",
    "pp = pprint.PrettyPrinter(indent=4)"
   ]
  },
  {
   "cell_type": "code",
   "execution_count": 2,
   "metadata": {},
   "outputs": [],
   "source": [
    "import config\n",
    "import utils\n",
    "\n",
    "from impl import Data, JsonLog, Results, UserResults"
   ]
  },
  {
   "cell_type": "code",
   "execution_count": 3,
   "metadata": {},
   "outputs": [],
   "source": [
    "def parse_user_results(self, team, user_name, path):\n",
    "    cached_file = os.path.join(config.cache_dir(team, user_name), \"results.pkl\")\n",
    "\n",
    "    if (os.path.exists(cached_file)):\n",
    "        print(\">>>!!!<<< Using cached values. >>>!!!<<<\")\n",
    "        x = utils.load_obj(cached_file)\n",
    "        self._results.push_user_results(team, user_name, x)\n",
    "    else:\n",
    "        dir = config.dir_names()[\"results\"]\n",
    "        full_path = os.path.join(path, dir)\n",
    "\n",
    "        results = []\n",
    "\n",
    "        for filename in os.listdir(full_path):\n",
    "\n",
    "            log = JsonLog.parse_file(full_path, filename)\n",
    "            results += log\n",
    "\n",
    "        r = UserResults(results)\n",
    "        self._results.push_user_results(team, user_name, r)\n",
    "        utils.save_obj(cached_file, r)\n",
    "\n",
    "    print(\"\\t--- DONE. ---\")\n",
    "          \n",
    "Data.parse_user_results = parse_user_results"
   ]
  },
  {
   "cell_type": "code",
   "execution_count": 4,
   "metadata": {},
   "outputs": [],
   "source": [
    "   \n",
    "        \n",
    "def push_user_results(self, team, user, results):\n",
    "    if (not team in self._results):\n",
    "        self._results[team] = {}\n",
    "\n",
    "    self._results[team][user] = results\n",
    "\n",
    "\n",
    "Results.push_user_results = push_user_results"
   ]
  },
  {
   "cell_type": "code",
   "execution_count": 5,
   "metadata": {},
   "outputs": [],
   "source": [
    "#Data.flush_cache()"
   ]
  },
  {
   "cell_type": "code",
   "execution_count": 6,
   "metadata": {
    "scrolled": false
   },
   "outputs": [
    {
     "name": "stdout",
     "output_type": "stream",
     "text": [
      "%%% PARSING TASKS %%%\n",
      "%%% Parsed 38 tasks. %%%\n",
      "%%% DONE! %%%\n"
     ]
    }
   ],
   "source": [
    "data = Data()"
   ]
  },
  {
   "cell_type": "markdown",
   "metadata": {},
   "source": [
    "# Results"
   ]
  },
  {
   "cell_type": "code",
   "execution_count": 7,
   "metadata": {},
   "outputs": [],
   "source": [
    "#data.print_tasks()"
   ]
  },
  {
   "cell_type": "code",
   "execution_count": 8,
   "metadata": {
    "scrolled": true
   },
   "outputs": [
    {
     "name": "stdout",
     "output_type": "stream",
     "text": [
      "==============\n",
      "TEAM: SOMHunter\n",
      "\n",
      "%%% CALCULATING SERVER TS DIFF %%%\n",
      "---\n",
      "\t +++ sh-patrik +++ \n",
      "\tDATA: ./data/sh-patrik \n",
      "\n",
      "\t--- DIR: actions ---\n",
      "\t--- DONE. ---\n",
      "---\n",
      "\t +++ sh-vit +++ \n",
      "\tDATA: ./data/sh-vit \n",
      "\n",
      "\t--- DIR: actions ---\n",
      "\t--- DONE. ---\n",
      "DIFF MIN FOR sh-patrik: -123\n",
      "DIFF MIN FOR sh-vit: 1\n",
      "%%% DONE! %%%\n",
      "%%% PARSING RESULTS %%%\n",
      "---\n",
      "\t +++ sh-patrik +++ \n",
      "\tDATA: ./data/sh-patrik \n",
      "\n",
      "\t--- DONE. ---\n",
      "---\n",
      "\t +++ sh-vit +++ \n",
      "\tDATA: ./data/sh-vit \n",
      "\n",
      "\t--- DONE. ---\n",
      "%%% DONE! %%%\n"
     ]
    }
   ],
   "source": [
    "data.parse_team(\"SOMHunter\", \n",
    "                  [\"sh-patrik\", \"sh-vit\"], \n",
    "                  verbose=True, \n",
    "                  validate_fix=False,\n",
    "                  generate_DRES=False\n",
    "                 )"
   ]
  },
  {
   "cell_type": "code",
   "execution_count": 9,
   "metadata": {
    "scrolled": false
   },
   "outputs": [
    {
     "name": "stdout",
     "output_type": "stream",
     "text": [
      "***############################***\n",
      "***###***   RESULT LOGS  ***###***\n",
      "***############################***\n",
      "--- SOMHunter ---\n",
      "\t--- sh-patrik ---\n",
      "\n",
      "User has 275 result logs.\n",
      "\t--------------------\n",
      "\n",
      "\t--- sh-vit ---\n",
      "\n",
      "User has 322 result logs.\n",
      "\t--------------------\n",
      "\n",
      "\n"
     ]
    }
   ],
   "source": [
    "print(data.results())"
   ]
  },
  {
   "cell_type": "code",
   "execution_count": null,
   "metadata": {},
   "outputs": [],
   "source": []
  },
  {
   "cell_type": "code",
   "execution_count": 10,
   "metadata": {},
   "outputs": [
    {
     "name": "stdout",
     "output_type": "stream",
     "text": [
      "==============\n",
      "TEAM: CollageHunter\n",
      "\n",
      "%%% CALCULATING SERVER TS DIFF %%%\n",
      "---\n",
      "\t +++ collage-jakub +++ \n",
      "\tDATA: ./data/collage-jakub \n",
      "\n",
      "\t--- DIR: actions ---\n",
      "\t--- DONE. ---\n",
      "---\n",
      "\t +++ collage-premek +++ \n",
      "\tDATA: ./data/collage-premek \n",
      "\n",
      "\t--- DIR: actions ---\n",
      "\t--- DONE. ---\n",
      "DIFF MIN FOR collage-jakub: 14\n",
      "DIFF MIN FOR collage-premek: 5\n",
      "%%% DONE! %%%\n",
      "%%% PARSING RESULTS %%%\n",
      "---\n",
      "\t +++ collage-jakub +++ \n",
      "\tDATA: ./data/collage-jakub \n",
      "\n",
      "\t--- DONE. ---\n",
      "---\n",
      "\t +++ collage-premek +++ \n",
      "\tDATA: ./data/collage-premek \n",
      "\n",
      "\t--- DONE. ---\n",
      "%%% DONE! %%%\n"
     ]
    }
   ],
   "source": [
    "data.parse_team(\"CollageHunter\", \n",
    "                  [\"collage-jakub\", \"collage-premek\"], \n",
    "                  verbose=True, \n",
    "                  validate_fix=False, \n",
    "                  generate_DRES=False\n",
    "                 )"
   ]
  },
  {
   "cell_type": "code",
   "execution_count": 12,
   "metadata": {},
   "outputs": [
    {
     "name": "stdout",
     "output_type": "stream",
     "text": [
      "==============\n",
      "TEAM: LegacySOMHunter\n",
      "\n",
      "%%% CALCULATING SERVER TS DIFF %%%\n",
      "---\n",
      "\t +++ legacy-tereza +++ \n",
      "\tDATA: ./data/legacy-tereza \n",
      "\n",
      "\t--- DIR: actions ---\n",
      "\t--- DONE. ---\n",
      "---\n",
      "\t +++ legacy-franta-tomas +++ \n",
      "\tDATA: ./data/legacy-franta-tomas \n",
      "\n",
      "\t--- DIR: actions ---\n",
      "\t--- DONE. ---\n",
      "DIFF MIN FOR legacy-tereza: 3\n",
      "DIFF MIN FOR legacy-franta-tomas: 1\n",
      "%%% DONE! %%%\n",
      "%%% PARSING RESULTS %%%\n",
      "---\n",
      "\t +++ legacy-tereza +++ \n",
      "\tDATA: ./data/legacy-tereza \n",
      "\n",
      ">>>!!!<<< Using cached values. >>>!!!<<<\n",
      "\t--- DONE. ---\n",
      "---\n",
      "\t +++ legacy-franta-tomas +++ \n",
      "\tDATA: ./data/legacy-franta-tomas \n",
      "\n",
      ">>>!!!<<< Using cached values. >>>!!!<<<\n",
      "\t--- DONE. ---\n",
      "%%% DONE! %%%\n"
     ]
    }
   ],
   "source": [
    "data.parse_team(\"LegacySOMHunter\", \n",
    "                  [\"legacy-tereza\", \"legacy-franta-tomas\"], \n",
    "                  verbose=True, \n",
    "                  validate_fix=False, \n",
    "                  generate_DRES=False\n",
    "                 )"
   ]
  },
  {
   "cell_type": "code",
   "execution_count": null,
   "metadata": {},
   "outputs": [],
   "source": []
  },
  {
   "cell_type": "code",
   "execution_count": null,
   "metadata": {},
   "outputs": [],
   "source": []
  }
 ],
 "metadata": {
  "kernelspec": {
   "display_name": "Python 3",
   "language": "python",
   "name": "python3"
  },
  "language_info": {
   "codemirror_mode": {
    "name": "ipython",
    "version": 3
   },
   "file_extension": ".py",
   "mimetype": "text/x-python",
   "name": "python",
   "nbconvert_exporter": "python",
   "pygments_lexer": "ipython3",
   "version": "3.8.3"
  }
 },
 "nbformat": 4,
 "nbformat_minor": 4
}
