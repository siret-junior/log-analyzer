{
 "cells": [
  {
   "cell_type": "code",
   "execution_count": 1,
   "metadata": {},
   "outputs": [],
   "source": [
    "%load_ext autoreload\n",
    "import warnings\n",
    "warnings.filterwarnings(\"ignore\")"
   ]
  },
  {
   "cell_type": "code",
   "execution_count": 2,
   "metadata": {},
   "outputs": [],
   "source": [
    "import numpy as np\n",
    "import csv\n",
    "import json\n",
    "import os \n",
    "import datetime\n",
    "import matplotlib.pyplot as plt\n",
    "import seaborn as sb\n",
    "import shutil\n",
    "from importlib import reload\n",
    "from IPython.display import Image, display, HTML\n",
    "import matplotlib.gridspec as gridspec\n",
    "import mpld3\n",
    "import pprint \n",
    "pp = pprint.PrettyPrinter(indent=4)"
   ]
  },
  {
   "cell_type": "code",
   "execution_count": 3,
   "metadata": {},
   "outputs": [],
   "source": [
    "import config\n",
    "import utils\n",
    "\n",
    "import raw_log_types\n",
    "import results\n",
    "import tasks\n",
    "import task_results\n",
    "from main import VbsVis\n",
    "import plot\n",
    "\n",
    "from constants import *"
   ]
  },
  {
   "cell_type": "code",
   "execution_count": 4,
   "metadata": {},
   "outputs": [],
   "source": [
    "%autoreload 2"
   ]
  },
  {
   "cell_type": "code",
   "execution_count": 5,
   "metadata": {},
   "outputs": [
    {
     "name": "stdout",
     "output_type": "stream",
     "text": [
      "Error while deleting directory\n",
      "%%% PARSING TASKS %%%\n",
      "%%% Parsed 38 tasks. %%%\n",
      "%%% DONE! %%%\n",
      "%%% PARSING VERDICTS %%%\n",
      "%%% DONE %%%\n"
     ]
    }
   ],
   "source": [
    "VbsVis.flush_cache()\n",
    "vbs = VbsVis()\n",
    "\n",
    "# vbs.parse_team(\"SOMHunter\", \n",
    "#                   [\"sh-patrik\", \"sh-vit\"], \n",
    "#                   verbose=True, \n",
    "#                   rewrite=False, \n",
    "#                   validate_fix=False,\n",
    "#                   generate_DRES=False\n",
    "#                  )\n",
    "# vbs.parse_team(\"CollageHunter\", \n",
    "#                   [\"collage-jakub\", \"collage-premek\"], \n",
    "#                   verbose=True,\n",
    "#                   rewrite=False,  \n",
    "#                   validate_fix=False, \n",
    "#                   generate_DRES=False\n",
    "#                  )\n",
    "# vbs.parse_team(\"LegacySOMHunter\", \n",
    "#                   [\"legacy-tereza\", \"legacy-franta-tomas\"], \n",
    "#                   verbose=True, \n",
    "#                   rewrite=False, \n",
    "#                   validate_fix=False, \n",
    "#                   generate_DRES=False\n",
    "#                  )\n",
    "\n",
    "#VbsVis.help()"
   ]
  },
  {
   "cell_type": "code",
   "execution_count": null,
   "metadata": {},
   "outputs": [],
   "source": [
    "#VbsVis.cache(vbs)"
   ]
  },
  {
   "cell_type": "code",
   "execution_count": null,
   "metadata": {},
   "outputs": [],
   "source": [
    "def plot_timelines(self,tasks=None, teams=None, users=None, task_types=[\"V\", \"T\"]):      \n",
    "    types = set()\n",
    "\n",
    "    # print(\"TIMEOUTS:\")\n",
    "    # print(\"(No response from the server for 30s, request timed out.)\")\n",
    "\n",
    "    # print(\"SERVER LAG:\")\n",
    "    # print(\"(Submit send before task end, processed after.)\")\n",
    "\n",
    "    for t in self.tasks().tasks():\n",
    "        t_name = t.name()\n",
    "        t_type = t.type()\n",
    "\n",
    "        if ((tasks != None) and (not (t_name in tasks))):\n",
    "            continue\n",
    "\n",
    "        if not (t_type in task_types):\n",
    "            print(t_type)\n",
    "            continue\n",
    "\n",
    "        print(f\"\\n%%%%%%%%%%%%%%%\")\n",
    "        print(f\"%%% {t_name} %%%\")\n",
    "        print(f\"%%%%%%%%%%%%%%%\")\n",
    "        \n",
    "        t_dur = t.duration()\n",
    "    \n",
    "        xs_elapseds = {}\n",
    "        ys_videos = {}\n",
    "        ys_frames = {}\n",
    "        ys_num_reported = {}\n",
    "        ys_labels = {}\n",
    "        \n",
    "        submits_correct = {}\n",
    "        submits_incorrect = {}\n",
    "        submits_indeterminate = {}\n",
    "        submits_timeout = {}\n",
    "        submits_server_lag = {}\n",
    "        submits_logged_out = {}\n",
    "       \n",
    "        # Flags\n",
    "        flags = {}\n",
    "        flags_changed = {}\n",
    "\n",
    "        # Actions\n",
    "        actions_times = {}\n",
    "        actions_types = {}\n",
    "        \n",
    "        #\n",
    "        # Fetch all arrays of results and submits for all tasks\n",
    "        # \n",
    "        task_results = self.task_results().task_results_arrays()\n",
    "        user_submits = self.task_results().task_submits_arrays()\n",
    "        \n",
    "        for team, team_dict in task_results.items():\n",
    "            if ((teams != None) and (not (team in teams))):\n",
    "                continue\n",
    "\n",
    "            print(f\"\\t--- TEAM: {team} ---\")\n",
    "\n",
    "            # User names for this one plot\n",
    "            this_users = [] \n",
    "            \n",
    "            #\n",
    "            # Generate array data\n",
    "            #\n",
    "            for user, user_results in team_dict.items():\n",
    "                if ((users != None) and (not (user in users))):\n",
    "                    continue\n",
    "\n",
    "                print(f\"\\t\\t--- {user} ---\")\n",
    "                this_users.append(user)\n",
    "\n",
    "                user_task_results = user_results[t_name]\n",
    "                user_task_submits = user_submits[team][user][t_name]\n",
    "                \n",
    "                # Input data\n",
    "                xs_elapseds[user] = user_task_results.elapsed()\n",
    "                ys_videos[user] = user_task_results.vid()\n",
    "                ys_frames[user] = user_task_results.fr()\n",
    "                flags[user] = user_task_results.c()\n",
    "                flags_changed[user] = user_task_results.c_changed()\n",
    "                ys_num_reported[user] = user_task_results.reported()\n",
    "\n",
    "                ys_labels[user] = user_task_results.values()\n",
    "\n",
    "                submit_xs_elapseds = user_task_submits.elapsed()\n",
    "                submit_positions, submit_reported = utils.find_submit_positions(submit_xs_elapseds, xs_elapseds[user], ys_videos[user], ys_num_reported[user])\n",
    "\n",
    "                submit_positions = list(map(lambda x: x if x != None else config.avs_pos(), submit_positions))\n",
    "                submits = list(zip(submit_xs_elapseds,submit_positions, user_task_submits.c(), submit_reported))\n",
    "                \n",
    "                submits_correct[user] = list(map(lambda y: (y[0], y[1], y[3]), filter(lambda x: x[2] == \"T\", submits)))\n",
    "                submits_incorrect[user] = list(map(lambda y: (y[0], y[1], y[3]), filter(lambda x: x[2] == \"F\", submits)))\n",
    "                submits_indeterminate[user] = list(map(lambda y: (y[0], y[1], y[3]), filter(lambda x: x[2] == \"I\", submits)))\n",
    "                submits_timeout[user] = list(map(lambda y: (y[0], y[1], y[3]), filter(lambda x: x[2] == \"TIMEOUT\", submits)))\n",
    "                submits_server_lag[user] = list(map(lambda y: (y[0], y[1], y[3]), filter(lambda x: x[2] == \"SERVER_LAG\", submits)))\n",
    "                submits_logged_out[user] = list(map(lambda y: (y[0], y[1], y[3]), filter(lambda x: x[2] == \"LOGGED_OUT\", submits)))\n",
    "\n",
    "                # print(f\"TIMEOUTS: >> {len(submits_timeout[user])} <<\")\n",
    "                # print(f\"SERVER LAG: >> {len(submits_server_lag[user])} <<\")\n",
    "\n",
    "                actions_times[user], actions_types[user] = self.task_actions_array(team, user, t_name)\n",
    "                \n",
    "                # pp.pprint(submits_correct)\n",
    "                # pp.pprint(submits_incorrect)\n",
    "                \n",
    "            # Canvas size\n",
    "            plt.rcParams[\"font.family\"] = \"stixgeneral\"\n",
    "            plt.rcParams[\"mathtext.fontset\"] = \"stix\"\n",
    "            fig = plt.figure(figsize=(16,6))\n",
    "            \n",
    "            gs_inner = fig.add_gridspec(2, 1, hspace=0.15, height_ratios=[10,1])\n",
    "            ax = fig.add_subplot(gs_inner[0, 0])\n",
    "           \n",
    "\n",
    "            # Title\n",
    "            ax.set_title(f\"{team}: {t_name}\", y=1.0, fontsize=40, loc='right')\n",
    "            \n",
    "            #ax.yaxis.set_visible(False)\n",
    "            # ax.spines['right'].set_visible(True)\n",
    "            # ax.spines['left'].set_visible(True)\n",
    "            # ax.spines['top'].set_visible(True)\n",
    "            ax.xaxis.set_ticks_position('bottom')\n",
    "\n",
    "            # Set y to log scale\n",
    "            ax.set_yscale(\"log\")\n",
    "            # Set y axis range\n",
    "            ax.set_ylim(1, 100000)\n",
    "            ax.set_xlim(xmin=0, xmax=450)\n",
    "            ax.set_xticks([])\n",
    "            ax.set_yticks([1,10,100,1000,10000,100000])\n",
    "            # ax.yaxis.grid(True)\n",
    "            ax.xaxis.grid(True)\n",
    "\n",
    "            #ax.grid(which='both')\n",
    "            ax.grid()\n",
    "            \n",
    "            ax.tick_params(axis='x', labelsize=20)\n",
    "            ax.tick_params(axis='y', labelsize=20)\n",
    "\n",
    "            for user_idx, member_ID in enumerate(this_users):\n",
    "                ##########################\n",
    "                # Draw video & frame pos\n",
    "                ##########################\n",
    "\n",
    "                #\n",
    "                # Get rid of None values for AVS\n",
    "                #\n",
    "                ys_videos[member_ID] = list(map(lambda x: x if (x != None) else config.avs_pos(), ys_videos[member_ID]))\n",
    "                ys_frames[member_ID] = list(map(lambda x: x if (x != None) else config.avs_pos(), ys_frames[member_ID]))\n",
    "\n",
    "                #\n",
    "                # Video positions\n",
    "                #\n",
    "                ax.step(xs_elapseds[member_ID], ys_videos[member_ID], where='post', label='post', color=COLORS[user_idx] , linewidth=\"2\", alpha=0.7)\n",
    "\n",
    "                #\n",
    "                # Frame positions\n",
    "                # (just horizontal lines)\n",
    "                fst = xs_elapseds[member_ID][:-1]\n",
    "                snd = xs_elapseds[member_ID][1:]\n",
    "                ys = ys_frames[member_ID]\n",
    "                zipped = list(zip(fst, snd, ys))\n",
    "                rrr = list(filter(lambda x: x[2] < 20000, zipped))\n",
    "\n",
    "                if len(rrr) != 0:\n",
    "                    fst, snd, ys = list(zip(*rrr))\n",
    "                    #plt.step(xs_elapseds[member_ID], ys_frames[member_ID], where='post', label='post', color=COLORS[user_idx], linestyle=':', linewidth=\"4\")\n",
    "                    ax.hlines(ys, fst, snd, label='post', color=COLORS[user_idx], linestyle=':', linewidth=3, alpha=0.7)\n",
    "\n",
    "                #\n",
    "                # Limit of send results\n",
    "                #\n",
    "                ax.step(xs_elapseds[member_ID], ys_num_reported[member_ID], where='post', label='post', color=COLORS[user_idx], linestyle='dashdot', linewidth=\"1\")\n",
    "\n",
    "                ##########################\n",
    "                # Draw result types\n",
    "                ##########################\n",
    "                #print(\"---\")\n",
    "                # pp.pprint(flags[member_ID])\n",
    "                # pp.pprint(flags_changed[member_ID])\n",
    "                vbs.print_task_course([team], [member_ID], [t_name], events=[\"r\"])\n",
    "                \n",
    "                for iii, (fs, fsc, l) in enumerate(list(zip(flags[member_ID], flags_changed[member_ID], ys_labels[member_ID]))):\n",
    "\n",
    "                    x = xs_elapseds[member_ID][iii]\n",
    "                    y = ys_videos[member_ID][iii]\n",
    "                    color = COLORS[user_idx]\n",
    "                    color_c = COLORS_CHAHGE[user_idx] # todo change\n",
    "                    \n",
    "                    is_initial, is_nn, is_text, is_bitmap, is_like, is_temporal, is_reloc, is_canvas, is_filter = config.classes_to_flags(fs)\n",
    "                    initial_ch, nn_ch, text_ch, bitmap_ch, like_ch, temporal_ch, reloc_ch, canvas_ch, filter_ch = config.classes_to_changed_flags(fsc)\n",
    "                    \n",
    "                    # print(f\"bitmap_ch: {bitmap_ch}\")\n",
    "                    # print(f\"reloc_ch: {reloc_ch}\")\n",
    "                    # - SHAPE -\n",
    "                    if is_reloc:\n",
    "                        plot.plot_relocation_mark(ax, x, y, reloc_ch, color, color_c)\n",
    "                    if is_canvas:\n",
    "                        plot.plot_canvas_mark(ax, x, y, canvas_ch, color, color_c)\n",
    "\n",
    "                    # - LETTER -\n",
    "                    if is_temporal:\n",
    "                        plot.plot_temporal_mark(ax, x, y, temporal_ch, color, color_c)\n",
    "                    if is_like:\n",
    "                        plot.plot_like_mark(ax, x, y, like_ch, color, color_c)\n",
    "\n",
    "                    # - MAIN -\n",
    "                    if is_initial:\n",
    "                        plot.plot_initial_mark(ax, x, y, initial_ch, color, color_c)\n",
    "                    if is_text:\n",
    "                        plot.plot_text_mark(ax, x, y, text_ch, color, color_c)\n",
    "                    if is_bitmap:\n",
    "                        plot.plot_bitmap_mark(ax, x, y, bitmap_ch, color, color_c)\n",
    "                    if is_nn:\n",
    "                        plot.plot_nn_mark(ax, x, y, nn_ch, color, color_c)\n",
    "                    \n",
    "                #print(\"---\")\n",
    "                ##########################\n",
    "                # Draw the end of the task\n",
    "                ##########################\n",
    "                ax.axvline(x=t_dur, color='r', linestyle='-', linewidth=\"5\")\n",
    "\n",
    "                ##########################\n",
    "                # Draw submits\n",
    "                ##########################\n",
    "                font_dict = {\n",
    "                    'family': 'serif',\n",
    "                    'color':  'red',\n",
    "                    'weight': 'bold',\n",
    "                    'size': 16,\n",
    "                }\n",
    "                submit_arrays = [\n",
    "                    (submits_correct, \"\", \"green\", \"<|-,head_width=0.4,head_length=.4\", 10, 2, None, 1),\n",
    "                    (submits_incorrect, \"\", \"red\", \"]-,widthA=0.3, lengthA=0.2\", 10, 2, None, 2),\n",
    "                    (submits_indeterminate, \"indeter\", \"grey\", \"-\", 10, 2, None, 3),\n",
    "                    (submits_logged_out, \"loged out\", \"red\", \"-\", 10, 2, font_dict, 3),\n",
    "                    (submits_timeout, \"timeout\", \"red\", \"-\", 10, 2, font_dict, 3),\n",
    "                    (submits_server_lag, \"server lag\", \"red\", \"-\", 10, 2, font_dict, 3)\n",
    "                ]\n",
    "\n",
    "                #\n",
    "                # Iterate over all the submit types\n",
    "                #\n",
    "                for arr, t, col, arrow, size, lw, font, off in submit_arrays:\n",
    "                    for time, pos, reported in arr[member_ID]:\n",
    "                        #plt.axvline(x=s, color='g', linewidth=\"2\") ## Line only\n",
    "                        xy_text = (40, 40) # Where the text will be, it determines the arrow direction\n",
    "                        #\n",
    "                        # If out of the reported range\n",
    "                        #\n",
    "                        if (pos >= reported):\n",
    "                            pos = reported\n",
    "                            xy_text = (xy_text[0], -xy_text[1])\n",
    "\n",
    "\n",
    "                        ax.annotate(\"\", xy=(time, pos), xytext=xy_text, textcoords='offset points', rotation=90, size=size,\n",
    "                            horizontalalignment='left', verticalalignment=\"center\", \n",
    "                            color=COLORS[user_idx] if t!=\"\" else col, \n",
    "                            arrowprops=dict(\n",
    "                                arrowstyle=arrow, \n",
    "                                alpha=0.4 if t!=\"\" else 1,\n",
    "                                facecolor=COLORS[user_idx]if t!=\"\" else col, \n",
    "                                edgecolor=COLORS[user_idx]if t!=\"\" else col,\n",
    "                                lw=lw,\n",
    "                            )\n",
    "                        )\n",
    "\n",
    "                        ax.text(time + (450 * 0.04), pos + (pos * 9) * (off / 2), t, size=12, rotation=90,\n",
    "                            ha=\"center\", va=\"bottom\", color=col, fontdict=font\n",
    "                        )\n",
    "\n",
    "                        #\n",
    "                        # For non-AVS task fade out the rest of the timeline\n",
    "                        #\n",
    "                        if (t_type != \"A\" and t == \"correct\"):\n",
    "                            ax.axvspan(time, 450, facecolor='0.05', alpha=0.15)\n",
    "                                   \n",
    "                \n",
    "                #\n",
    "                # #######################\n",
    "                #   Event plot\n",
    "                # #######################\n",
    "                #\n",
    "\n",
    "                ax2 = fig.add_subplot(gs_inner[1,0])\n",
    "                ax2.set_xlim([0, 450])\n",
    "                ax2.set_yticks([])\n",
    "                ax2.tick_params(axis='x', labelsize=20)\n",
    "                ax2.tick_params(axis='y', labelsize=20)\n",
    "\n",
    "                \n",
    "                ##########################\n",
    "                # Draw actions xoxo\n",
    "                ##########################\n",
    "                # pp.pprint(actions_times[user])\n",
    "                # pp.pprint(actions_types[user])\n",
    "                for iii, (time, tpe) in enumerate(list(zip(actions_times[member_ID], actions_types[member_ID]))):\n",
    "                    x = time\n",
    "\n",
    "                    types.add(tpe)\n",
    "                    y = config.action_type_to_y(tpe)\n",
    "\n",
    "                    color = COLORS[user_idx]\n",
    "                    color_c = COLORS[user_idx] # todo change\n",
    "                    line_style = \"-\"\n",
    "                    plt.vlines(x=x, ymin=0, ymax=1, color=color, label=\"...\", linestyle=line_style, alpha=0.5)\n",
    "\n",
    "            #ax.get_yaxis().set_ticklabels([])\n",
    "            plt.tight_layout()\n",
    "            plt.savefig(os.path.join(config.out_dir(\"timelines\", team), t_name + \".pdf\"))\n",
    "            for u in this_users:\n",
    "                acts = vbs.task_course(team, u, t_name, events=[\"r\", \"a\", \"s\"])\n",
    "                with open(os.path.join(config.out_dir(\"timelines\", team), t_name + \"-\" + u + \"-actions.txt\"),\"w\") as ofs:\n",
    "                    for s in acts:\n",
    "                        ofs.write(s[1].__str__())\n",
    "\n",
    "            plt.show()\n",
    "\n",
    "    print(types)"
   ]
  },
  {
   "cell_type": "code",
   "execution_count": null,
   "metadata": {
    "scrolled": true
   },
   "outputs": [],
   "source": [
    "#plot_timelines(vbs, tasks=[\"27_v21-14\"])\n",
    "plot_timelines(vbs, task_types=[\"T\", \"V\"])"
   ]
  },
  {
   "cell_type": "markdown",
   "metadata": {},
   "source": [
    "\n",
    "# Info queries"
   ]
  },
  {
   "cell_type": "code",
   "execution_count": null,
   "metadata": {},
   "outputs": [],
   "source": [
    "#vbs.print_task_course([\"SOMHunter\"], [\"sh-patrik\"], [\"09_a21-7\"])"
   ]
  },
  {
   "cell_type": "code",
   "execution_count": 6,
   "metadata": {
    "scrolled": true
   },
   "outputs": [
    {
     "name": "stdout",
     "output_type": "stream",
     "text": [
      "***############################***\n",
      "***###*** VBS 2021 TASKS ***###***\n",
      "***############################***\n",
      ">>>>>>>>>>>>> STATS <<<<<<<<<<<<<<<<\n",
      "Number of tasks: 38\n",
      "Unique video IDs: \n",
      "88, 1162, 1939, 2034, 2224, 2464, 2519, 3085, 3317, 3331, 3870, 3885, 4035, 4178, 4225, 4316, 4888, 4979, 5146, 5531, 6228, 6246, 6561, 6827, 6979, 7116, 7421, \n",
      ">>>>>>>>>>>>> TASKS <<<<<<<<<<<<<<<<\n",
      "\t*** Task ***\n",
      "\tname: 01_v21-1\n",
      "\ttype: V\n",
      "\ttimestamps: (1624277458765, 1624277758765)\n",
      "\ttimes: (21-06-2021 14:10:58, 21-06-2021 14:15:58)\n",
      "\ttext: None\n",
      "\ttarget: *** TaskTarget ***\n",
      "\t\tvideo_ID: 4178\n",
      "\t\tinterval: (1875.0, 2300.0)\n",
      "\n",
      "\n"
     ]
    },
    {
     "data": {
      "text/html": [
       "<img src=\"./thumbs/04177/v04177_s00009(f00001097-f00002570)_f00001875.jpg\" style=\"max-width:100px;display:inline;margin:1px\"/><img src=\"./thumbs/04177/v04177_s00009(f00001097-f00002570)_f00001881.jpg\" style=\"max-width:100px;display:inline;margin:1px\"/><img src=\"./thumbs/04177/v04177_s00009(f00001097-f00002570)_f00001900.jpg\" style=\"max-width:100px;display:inline;margin:1px\"/><img src=\"./thumbs/04177/v04177_s00009(f00001097-f00002570)_f00001919.jpg\" style=\"max-width:100px;display:inline;margin:1px\"/><img src=\"./thumbs/04177/v04177_s00009(f00001097-f00002570)_f00001931.jpg\" style=\"max-width:100px;display:inline;margin:1px\"/><img src=\"./thumbs/04177/v04177_s00009(f00001097-f00002570)_f00001938.jpg\" style=\"max-width:100px;display:inline;margin:1px\"/><img src=\"./thumbs/04177/v04177_s00009(f00001097-f00002570)_f00001975.jpg\" style=\"max-width:100px;display:inline;margin:1px\"/><img src=\"./thumbs/04177/v04177_s00009(f00001097-f00002570)_f00002050.jpg\" style=\"max-width:100px;display:inline;margin:1px\"/><img src=\"./thumbs/04177/v04177_s00009(f00001097-f00002570)_f00002106.jpg\" style=\"max-width:100px;display:inline;margin:1px\"/><img src=\"./thumbs/04177/v04177_s00009(f00001097-f00002570)_f00002131.jpg\" style=\"max-width:100px;display:inline;margin:1px\"/><img src=\"./thumbs/04177/v04177_s00009(f00001097-f00002570)_f00002156.jpg\" style=\"max-width:100px;display:inline;margin:1px\"/><img src=\"./thumbs/04177/v04177_s00009(f00001097-f00002570)_f00002169.jpg\" style=\"max-width:100px;display:inline;margin:1px\"/><img src=\"./thumbs/04177/v04177_s00009(f00001097-f00002570)_f00002206.jpg\" style=\"max-width:100px;display:inline;margin:1px\"/><img src=\"./thumbs/04177/v04177_s00009(f00001097-f00002570)_f00002250.jpg\" style=\"max-width:100px;display:inline;margin:1px\"/>"
      ],
      "text/plain": [
       "<IPython.core.display.HTML object>"
      ]
     },
     "metadata": {},
     "output_type": "display_data"
    },
    {
     "name": "stdout",
     "output_type": "stream",
     "text": [
      "------------------------------------\n",
      "\t*** Task ***\n",
      "\tname: 02_a21-5\n",
      "\ttype: A\n",
      "\ttimestamps: (1624277828154, 1624278128154)\n",
      "\ttimes: (21-06-2021 14:17:08, 21-06-2021 14:22:08)\n",
      "\ttext: Find shots of a person holding or waving a flag.\n",
      "\ttarget: None\n",
      "\n",
      "------------------------------------\n",
      "\t*** Task ***\n",
      "\tname: 03_t21-1\n",
      "\ttype: T\n",
      "\ttimestamps: (1624278204021, 1624278624021)\n",
      "\ttimes: (21-06-2021 14:23:24, 21-06-2021 14:30:24)\n",
      "\ttext: Graffity artists spraying purple outline of the letters RTH. Letters are white/green on a wall with a blueish graffity on the left. He wears a blue jacket over a green hoodie.\n",
      "\n",
      "\ttarget: *** TaskTarget ***\n",
      "\t\tvideo_ID: 3085\n",
      "\t\tinterval: (7850.0, 8425.0)\n",
      "\n",
      "\n"
     ]
    },
    {
     "data": {
      "text/html": [
       "<img src=\"./thumbs/03084/v03084_s00009(f00007066-f00008732)_f00007856.jpg\" style=\"max-width:100px;display:inline;margin:1px\"/><img src=\"./thumbs/03084/v03084_s00009(f00007066-f00008732)_f00007869.jpg\" style=\"max-width:100px;display:inline;margin:1px\"/><img src=\"./thumbs/03084/v03084_s00009(f00007066-f00008732)_f00007888.jpg\" style=\"max-width:100px;display:inline;margin:1px\"/><img src=\"./thumbs/03084/v03084_s00009(f00007066-f00008732)_f00007900.jpg\" style=\"max-width:100px;display:inline;margin:1px\"/><img src=\"./thumbs/03084/v03084_s00009(f00007066-f00008732)_f00007912.jpg\" style=\"max-width:100px;display:inline;margin:1px\"/><img src=\"./thumbs/03084/v03084_s00009(f00007066-f00008732)_f00007925.jpg\" style=\"max-width:100px;display:inline;margin:1px\"/><img src=\"./thumbs/03084/v03084_s00009(f00007066-f00008732)_f00007962.jpg\" style=\"max-width:100px;display:inline;margin:1px\"/><img src=\"./thumbs/03084/v03084_s00009(f00007066-f00008732)_f00008162.jpg\" style=\"max-width:100px;display:inline;margin:1px\"/><img src=\"./thumbs/03084/v03084_s00009(f00007066-f00008732)_f00008425.jpg\" style=\"max-width:100px;display:inline;margin:1px\"/>"
      ],
      "text/plain": [
       "<IPython.core.display.HTML object>"
      ]
     },
     "metadata": {},
     "output_type": "display_data"
    },
    {
     "name": "stdout",
     "output_type": "stream",
     "text": [
      "------------------------------------\n",
      "\t*** Task ***\n",
      "\tname: 04_v21-2\n",
      "\ttype: V\n",
      "\ttimestamps: (1624278710026, 1624279010026)\n",
      "\ttimes: (21-06-2021 14:31:50, 21-06-2021 14:36:50)\n",
      "\ttext: None\n",
      "\ttarget: *** TaskTarget ***\n",
      "\t\tvideo_ID: 1162\n",
      "\t\tinterval: (23050.0, 23700.0)\n",
      "\n",
      "\n"
     ]
    },
    {
     "data": {
      "text/html": [
       "<img src=\"./thumbs/01161/v01161_s00026(f00022233-f00023778)_f00023050.jpg\" style=\"max-width:100px;display:inline;margin:1px\"/><img src=\"./thumbs/01161/v01161_s00026(f00022233-f00023778)_f00023075.jpg\" style=\"max-width:100px;display:inline;margin:1px\"/><img src=\"./thumbs/01161/v01161_s00026(f00022233-f00023778)_f00023081.jpg\" style=\"max-width:100px;display:inline;margin:1px\"/><img src=\"./thumbs/01161/v01161_s00026(f00022233-f00023778)_f00023100.jpg\" style=\"max-width:100px;display:inline;margin:1px\"/><img src=\"./thumbs/01161/v01161_s00026(f00022233-f00023778)_f00023119.jpg\" style=\"max-width:100px;display:inline;margin:1px\"/><img src=\"./thumbs/01161/v01161_s00026(f00022233-f00023778)_f00023138.jpg\" style=\"max-width:100px;display:inline;margin:1px\"/><img src=\"./thumbs/01161/v01161_s00026(f00022233-f00023778)_f00023194.jpg\" style=\"max-width:100px;display:inline;margin:1px\"/><img src=\"./thumbs/01161/v01161_s00026(f00022233-f00023778)_f00023275.jpg\" style=\"max-width:100px;display:inline;margin:1px\"/><img src=\"./thumbs/01161/v01161_s00026(f00022233-f00023778)_f00023325.jpg\" style=\"max-width:100px;display:inline;margin:1px\"/><img src=\"./thumbs/01161/v01161_s00026(f00022233-f00023778)_f00023344.jpg\" style=\"max-width:100px;display:inline;margin:1px\"/><img src=\"./thumbs/01161/v01161_s00026(f00022233-f00023778)_f00023369.jpg\" style=\"max-width:100px;display:inline;margin:1px\"/><img src=\"./thumbs/01161/v01161_s00026(f00022233-f00023778)_f00023469.jpg\" style=\"max-width:100px;display:inline;margin:1px\"/><img src=\"./thumbs/01161/v01161_s00026(f00022233-f00023778)_f00023606.jpg\" style=\"max-width:100px;display:inline;margin:1px\"/><img src=\"./thumbs/01161/v01161_s00026(f00022233-f00023778)_f00023694.jpg\" style=\"max-width:100px;display:inline;margin:1px\"/>"
      ],
      "text/plain": [
       "<IPython.core.display.HTML object>"
      ]
     },
     "metadata": {},
     "output_type": "display_data"
    },
    {
     "name": "stdout",
     "output_type": "stream",
     "text": [
      "------------------------------------\n",
      "\t*** Task ***\n",
      "\tname: 05_a21-9\n",
      "\ttype: A\n",
      "\ttimestamps: (1624279149067, 1624279449067)\n",
      "\ttimes: (21-06-2021 14:39:09, 21-06-2021 14:44:09)\n",
      "\ttext: Find shots of at least one person drinking beer.\n",
      "\ttarget: None\n",
      "\n",
      "------------------------------------\n",
      "\t*** Task ***\n",
      "\tname: 06_t21-2\n",
      "\ttype: T\n",
      "\ttimestamps: (1624279524639, 1624279944639)\n",
      "\ttimes: (21-06-2021 14:45:24, 21-06-2021 14:52:24)\n",
      "\ttext: A hand opening and closing a window of a mountain hut. There are snow covered mountains outside. The weather is sunny, the shadow of the hut is visible in the snow.\n",
      "\n",
      "\ttarget: *** TaskTarget ***\n",
      "\t\tvideo_ID: 2224\n",
      "\t\tinterval: (2097.9021000000002, 2337.6623400000003)\n",
      "\n",
      "\n"
     ]
    },
    {
     "data": {
      "text/html": [
       "<img src=\"./thumbs/02223/v02223_s00017(f00002080-f00002380)_f00002098.jpg\" style=\"max-width:100px;display:inline;margin:1px\"/><img src=\"./thumbs/02223/v02223_s00017(f00002080-f00002380)_f00002180.jpg\" style=\"max-width:100px;display:inline;margin:1px\"/><img src=\"./thumbs/02223/v02223_s00017(f00002080-f00002380)_f00002255.jpg\" style=\"max-width:100px;display:inline;margin:1px\"/><img src=\"./thumbs/02223/v02223_s00017(f00002080-f00002380)_f00002330.jpg\" style=\"max-width:100px;display:inline;margin:1px\"/>"
      ],
      "text/plain": [
       "<IPython.core.display.HTML object>"
      ]
     },
     "metadata": {},
     "output_type": "display_data"
    },
    {
     "name": "stdout",
     "output_type": "stream",
     "text": [
      "------------------------------------\n",
      "\t*** Task ***\n",
      "\tname: 07_v21-3\n",
      "\ttype: V\n",
      "\ttimestamps: (1624280086318, 1624280386318)\n",
      "\ttimes: (21-06-2021 14:54:46, 21-06-2021 14:59:46)\n",
      "\ttext: None\n",
      "\ttarget: *** TaskTarget ***\n",
      "\t\tvideo_ID: 5146\n",
      "\t\tinterval: (179.82018, 779.22078)\n",
      "\n",
      "\n"
     ]
    },
    {
     "data": {
      "text/html": [
       "<img src=\"./thumbs/05145/v05145_s00001(f00000018-f00001658)_f00000180.jpg\" style=\"max-width:100px;display:inline;margin:1px\"/><img src=\"./thumbs/05145/v05145_s00001(f00000018-f00001658)_f00000412.jpg\" style=\"max-width:100px;display:inline;margin:1px\"/><img src=\"./thumbs/05145/v05145_s00001(f00000018-f00001658)_f00000667.jpg\" style=\"max-width:100px;display:inline;margin:1px\"/><img src=\"./thumbs/05145/v05145_s00001(f00000018-f00001658)_f00000764.jpg\" style=\"max-width:100px;display:inline;margin:1px\"/>"
      ],
      "text/plain": [
       "<IPython.core.display.HTML object>"
      ]
     },
     "metadata": {},
     "output_type": "display_data"
    },
    {
     "name": "stdout",
     "output_type": "stream",
     "text": [
      "------------------------------------\n",
      "\t*** Task ***\n",
      "\tname: 08_t21-7\n",
      "\ttype: T\n",
      "\ttimestamps: (1624280613622, 1624281033622)\n",
      "\ttimes: (21-06-2021 15:03:33, 21-06-2021 15:10:33)\n",
      "\ttext: A young man sitting outdoors and eating. He wears a dark T-shirt and silver headphones. It is evening, trees are visible behind him (out of focus).\n",
      "\n",
      "\ttarget: *** TaskTarget ***\n",
      "\t\tvideo_ID: 4316\n",
      "\t\tinterval: (33326.64, 33494.472)\n",
      "\n",
      "\n"
     ]
    },
    {
     "data": {
      "text/html": [
       "<img src=\"./thumbs/04315/v04315_s00273(f00033308-f00033502)_f00033405.jpg\" style=\"max-width:100px;display:inline;margin:1px\"/>"
      ],
      "text/plain": [
       "<IPython.core.display.HTML object>"
      ]
     },
     "metadata": {},
     "output_type": "display_data"
    },
    {
     "name": "stdout",
     "output_type": "stream",
     "text": [
      "------------------------------------\n",
      "\t*** Task ***\n",
      "\tname: 09_a21-7\n",
      "\ttype: A\n",
      "\ttimestamps: (1624281095339, 1624281395339)\n",
      "\ttimes: (21-06-2021 15:11:35, 21-06-2021 15:16:35)\n",
      "\ttext: Find shots showing a sign with text (large enough to be readable)\n",
      "\ttarget: None\n",
      "\n",
      "------------------------------------\n",
      "\t*** Task ***\n",
      "\tname: 10_a21-8\n",
      "\ttype: A\n",
      "\ttimestamps: (1624283832488, 1624284132488)\n",
      "\ttimes: (21-06-2021 15:57:12, 21-06-2021 16:02:12)\n",
      "\ttext: Find shots inside an airplane, showing at least one passenger.\n",
      "\ttarget: None\n",
      "\n",
      "------------------------------------\n",
      "\t*** Task ***\n",
      "\tname: 11_v21-4\n",
      "\ttype: V\n",
      "\ttimestamps: (1624284220843, 1624284520843)\n",
      "\ttimes: (21-06-2021 16:03:40, 21-06-2021 16:08:40)\n",
      "\ttext: None\n",
      "\ttarget: *** TaskTarget ***\n",
      "\t\tvideo_ID: 3317\n",
      "\t\tinterval: (4450.0, 5075.0)\n",
      "\n",
      "\n"
     ]
    },
    {
     "data": {
      "text/html": [
       "<img src=\"./thumbs/03316/v03316_s00038(f00004433-f00004545)_f00004494.jpg\" style=\"max-width:100px;display:inline;margin:1px\"/><img src=\"./thumbs/03316/v03316_s00039(f00004546-f00004658)_f00004575.jpg\" style=\"max-width:100px;display:inline;margin:1px\"/><img src=\"./thumbs/03316/v03316_s00039(f00004546-f00004658)_f00004631.jpg\" style=\"max-width:100px;display:inline;margin:1px\"/><img src=\"./thumbs/03316/v03316_s00040(f00004659-f00004778)_f00004719.jpg\" style=\"max-width:100px;display:inline;margin:1px\"/><img src=\"./thumbs/03316/v03316_s00041(f00004779-f00004903)_f00004844.jpg\" style=\"max-width:100px;display:inline;margin:1px\"/><img src=\"./thumbs/03316/v03316_s00042(f00004904-f00005094)_f00004994.jpg\" style=\"max-width:100px;display:inline;margin:1px\"/>"
      ],
      "text/plain": [
       "<IPython.core.display.HTML object>"
      ]
     },
     "metadata": {},
     "output_type": "display_data"
    },
    {
     "name": "stdout",
     "output_type": "stream",
     "text": [
      "------------------------------------\n",
      "\t*** Task ***\n",
      "\tname: 12_t21-3\n",
      "\ttype: T\n",
      "\ttimestamps: (1624284561630, 1624284981630)\n",
      "\ttimes: (21-06-2021 16:09:21, 21-06-2021 16:16:21)\n",
      "\ttext: Historic shots of a hurdle race and discus throwing. The video is in sepia tones. In the hurdle race, men run towards the camera, with bystanders on the sides.\n",
      "\n",
      "\ttarget: *** TaskTarget ***\n",
      "\t\tvideo_ID: 6228\n",
      "\t\tinterval: (0.0, 389.61039)\n",
      "\n",
      "\n"
     ]
    },
    {
     "data": {
      "text/html": [
       "<img src=\"./thumbs/06227/v06227_s00000(f00000000-f00000346)_f00000007.jpg\" style=\"max-width:100px;display:inline;margin:1px\"/><img src=\"./thumbs/06227/v06227_s00000(f00000000-f00000346)_f00000165.jpg\" style=\"max-width:100px;display:inline;margin:1px\"/><img src=\"./thumbs/06227/v06227_s00000(f00000000-f00000346)_f00000307.jpg\" style=\"max-width:100px;display:inline;margin:1px\"/><img src=\"./thumbs/06227/v06227_s00000(f00000000-f00000346)_f00000330.jpg\" style=\"max-width:100px;display:inline;margin:1px\"/><img src=\"./thumbs/06227/v06227_s00001(f00000347-f00000421)_f00000360.jpg\" style=\"max-width:100px;display:inline;margin:1px\"/><img src=\"./thumbs/06227/v06227_s00001(f00000347-f00000421)_f00000375.jpg\" style=\"max-width:100px;display:inline;margin:1px\"/>"
      ],
      "text/plain": [
       "<IPython.core.display.HTML object>"
      ]
     },
     "metadata": {},
     "output_type": "display_data"
    },
    {
     "name": "stdout",
     "output_type": "stream",
     "text": [
      "------------------------------------\n",
      "\t*** Task ***\n",
      "\tname: 13_a21-1\n",
      "\ttype: A\n",
      "\ttimestamps: (1624285278073, 1624285578073)\n",
      "\ttimes: (21-06-2021 16:21:18, 21-06-2021 16:26:18)\n",
      "\ttext: Find outdoor shots of two women walking and talking to each other.\n",
      "\ttarget: None\n",
      "\n",
      "------------------------------------\n",
      "\t*** Task ***\n",
      "\tname: 14_t21-4\n",
      "\ttype: T\n",
      "\ttimestamps: (1624285646178, 1624286066178)\n",
      "\ttimes: (21-06-2021 16:27:26, 21-06-2021 16:34:26)\n",
      "\ttext: An African man runs across a street with trees and parked cars, stops on the sidewalk and walks towards the camera. Video is black and white, in the first shots we see part of a bench. The man has dreadlocks, on the left of the sidewalk there is a low wall.\n",
      "\n",
      "\ttarget: *** TaskTarget ***\n",
      "\t\tvideo_ID: 6561\n",
      "\t\tinterval: (16750.0, 17225.0)\n",
      "\n",
      "\n"
     ]
    },
    {
     "data": {
      "text/html": [
       "<img src=\"./thumbs/06560/v06560_s00059(f00016731-f00017600)_f00016800.jpg\" style=\"max-width:100px;display:inline;margin:1px\"/><img src=\"./thumbs/06560/v06560_s00059(f00016731-f00017600)_f00016888.jpg\" style=\"max-width:100px;display:inline;margin:1px\"/><img src=\"./thumbs/06560/v06560_s00059(f00016731-f00017600)_f00017069.jpg\" style=\"max-width:100px;display:inline;margin:1px\"/>"
      ],
      "text/plain": [
       "<IPython.core.display.HTML object>"
      ]
     },
     "metadata": {},
     "output_type": "display_data"
    },
    {
     "name": "stdout",
     "output_type": "stream",
     "text": [
      "------------------------------------\n",
      "\t*** Task ***\n",
      "\tname: 15_v21-5\n",
      "\ttype: V\n",
      "\ttimestamps: (1624286556757, 1624286856757)\n",
      "\ttimes: (21-06-2021 16:42:36, 21-06-2021 16:47:36)\n",
      "\ttext: None\n",
      "\ttarget: *** TaskTarget ***\n",
      "\t\tvideo_ID: 3870\n",
      "\t\tinterval: (4475.0, 5050.0)\n",
      "\n",
      "\n"
     ]
    },
    {
     "data": {
      "text/html": [
       "<img src=\"./thumbs/03869/v03869_s00023(f00004481-f00004534)_f00004506.jpg\" style=\"max-width:100px;display:inline;margin:1px\"/><img src=\"./thumbs/03869/v03869_s00024(f00004535-f00004567)_f00004550.jpg\" style=\"max-width:100px;display:inline;margin:1px\"/><img src=\"./thumbs/03869/v03869_s00025(f00004568-f00004583)_f00004575.jpg\" style=\"max-width:100px;display:inline;margin:1px\"/><img src=\"./thumbs/03869/v03869_s00026(f00004584-f00004596)_f00004594.jpg\" style=\"max-width:100px;display:inline;margin:1px\"/><img src=\"./thumbs/03869/v03869_s00027(f00004597-f00004615)_f00004606.jpg\" style=\"max-width:100px;display:inline;margin:1px\"/><img src=\"./thumbs/03869/v03869_s00028(f00004616-f00004655)_f00004638.jpg\" style=\"max-width:100px;display:inline;margin:1px\"/><img src=\"./thumbs/03869/v03869_s00029(f00004656-f00004706)_f00004681.jpg\" style=\"max-width:100px;display:inline;margin:1px\"/><img src=\"./thumbs/03869/v03869_s00030(f00004707-f00004739)_f00004725.jpg\" style=\"max-width:100px;display:inline;margin:1px\"/><img src=\"./thumbs/03869/v03869_s00031(f00004740-f00004753)_f00004750.jpg\" style=\"max-width:100px;display:inline;margin:1px\"/><img src=\"./thumbs/03869/v03869_s00032(f00004754-f00004770)_f00004762.jpg\" style=\"max-width:100px;display:inline;margin:1px\"/><img src=\"./thumbs/03869/v03869_s00033(f00004771-f00004813)_f00004794.jpg\" style=\"max-width:100px;display:inline;margin:1px\"/><img src=\"./thumbs/03869/v03869_s00034(f00004814-f00004886)_f00004825.jpg\" style=\"max-width:100px;display:inline;margin:1px\"/><img src=\"./thumbs/03869/v03869_s00034(f00004814-f00004886)_f00004856.jpg\" style=\"max-width:100px;display:inline;margin:1px\"/><img src=\"./thumbs/03869/v03869_s00035(f00004887-f00004949)_f00004900.jpg\" style=\"max-width:100px;display:inline;margin:1px\"/><img src=\"./thumbs/03869/v03869_s00035(f00004887-f00004949)_f00004931.jpg\" style=\"max-width:100px;display:inline;margin:1px\"/><img src=\"./thumbs/03869/v03869_s00036(f00004950-f00005044)_f00005000.jpg\" style=\"max-width:100px;display:inline;margin:1px\"/>"
      ],
      "text/plain": [
       "<IPython.core.display.HTML object>"
      ]
     },
     "metadata": {},
     "output_type": "display_data"
    },
    {
     "name": "stdout",
     "output_type": "stream",
     "text": [
      "------------------------------------\n",
      "\t*** Task ***\n",
      "\tname: 16_t21-5\n",
      "\ttype: T\n",
      "\ttimestamps: (1624286913351, 1624287333351)\n",
      "\ttimes: (21-06-2021 16:48:33, 21-06-2021 16:55:33)\n",
      "\ttext: We see a black car approaching and stopping (shot from ground level), then a shot showing the man in the car follows. When the car stops in the first shot, we see the left wheel in focus, the rest blurred. The sitting in the car man wears a baseball cap and a jacket, the camera zooms to his face.\n",
      "\n",
      "\ttarget: *** TaskTarget ***\n",
      "\t\tvideo_ID: 7421\n",
      "\t\tinterval: (768.0, 1176.0)\n",
      "\n",
      "\n"
     ]
    },
    {
     "data": {
      "text/html": [
       "<img src=\"./thumbs/07420/v07420_s00008(f00000768-f00000978)_f00000804.jpg\" style=\"max-width:100px;display:inline;margin:1px\"/><img src=\"./thumbs/07420/v07420_s00008(f00000768-f00000978)_f00000912.jpg\" style=\"max-width:100px;display:inline;margin:1px\"/><img src=\"./thumbs/07420/v07420_s00009(f00000979-f00001204)_f00001092.jpg\" style=\"max-width:100px;display:inline;margin:1px\"/>"
      ],
      "text/plain": [
       "<IPython.core.display.HTML object>"
      ]
     },
     "metadata": {},
     "output_type": "display_data"
    },
    {
     "name": "stdout",
     "output_type": "stream",
     "text": [
      "------------------------------------\n",
      "\t*** Task ***\n",
      "\tname: 17_v21-6\n",
      "\ttype: V\n",
      "\ttimestamps: (1624287415948, 1624287715948)\n",
      "\ttimes: (21-06-2021 16:56:55, 21-06-2021 17:01:55)\n",
      "\ttext: None\n",
      "\ttarget: *** TaskTarget ***\n",
      "\t\tvideo_ID: 88\n",
      "\t\tinterval: (7912.08792, 8421.57843)\n",
      "\n",
      "\n"
     ]
    },
    {
     "data": {
      "text/html": [
       "<img src=\"./thumbs/00087/v00087_s00116(f00007910-f00008027)_f00007972.jpg\" style=\"max-width:100px;display:inline;margin:1px\"/><img src=\"./thumbs/00087/v00087_s00117(f00008028-f00008059)_f00008047.jpg\" style=\"max-width:100px;display:inline;margin:1px\"/><img src=\"./thumbs/00087/v00087_s00118(f00008060-f00008092)_f00008077.jpg\" style=\"max-width:100px;display:inline;margin:1px\"/><img src=\"./thumbs/00087/v00087_s00119(f00008093-f00008158)_f00008129.jpg\" style=\"max-width:100px;display:inline;margin:1px\"/><img src=\"./thumbs/00087/v00087_s00120(f00008159-f00008227)_f00008197.jpg\" style=\"max-width:100px;display:inline;margin:1px\"/><img src=\"./thumbs/00087/v00087_s00121(f00008228-f00008293)_f00008264.jpg\" style=\"max-width:100px;display:inline;margin:1px\"/><img src=\"./thumbs/00087/v00087_s00122(f00008294-f00008325)_f00008309.jpg\" style=\"max-width:100px;display:inline;margin:1px\"/><img src=\"./thumbs/00087/v00087_s00123(f00008326-f00008358)_f00008347.jpg\" style=\"max-width:100px;display:inline;margin:1px\"/><img src=\"./thumbs/00087/v00087_s00124(f00008359-f00008391)_f00008377.jpg\" style=\"max-width:100px;display:inline;margin:1px\"/><img src=\"./thumbs/00087/v00087_s00125(f00008392-f00008442)_f00008414.jpg\" style=\"max-width:100px;display:inline;margin:1px\"/>"
      ],
      "text/plain": [
       "<IPython.core.display.HTML object>"
      ]
     },
     "metadata": {},
     "output_type": "display_data"
    },
    {
     "name": "stdout",
     "output_type": "stream",
     "text": [
      "------------------------------------\n",
      "\t*** Task ***\n",
      "\tname: 18_v21-7\n",
      "\ttype: V\n",
      "\ttimestamps: (1624440790581, 1624441090581)\n",
      "\ttimes: (23-06-2021 11:33:10, 23-06-2021 11:38:10)\n",
      "\ttext: None\n",
      "\ttarget: *** TaskTarget ***\n",
      "\t\tvideo_ID: 4035\n",
      "\t\tinterval: (8871.12888, 9380.61939)\n",
      "\n",
      "\n"
     ]
    },
    {
     "data": {
      "text/html": [
       "<img src=\"./thumbs/04034/v04034_s00051(f00008870-f00009390)_f00008894.jpg\" style=\"max-width:100px;display:inline;margin:1px\"/><img src=\"./thumbs/04034/v04034_s00051(f00008870-f00009390)_f00008999.jpg\" style=\"max-width:100px;display:inline;margin:1px\"/><img src=\"./thumbs/04034/v04034_s00051(f00008870-f00009390)_f00009133.jpg\" style=\"max-width:100px;display:inline;margin:1px\"/><img src=\"./thumbs/04034/v04034_s00051(f00008870-f00009390)_f00009231.jpg\" style=\"max-width:100px;display:inline;margin:1px\"/><img src=\"./thumbs/04034/v04034_s00051(f00008870-f00009390)_f00009313.jpg\" style=\"max-width:100px;display:inline;margin:1px\"/><img src=\"./thumbs/04034/v04034_s00051(f00008870-f00009390)_f00009358.jpg\" style=\"max-width:100px;display:inline;margin:1px\"/><img src=\"./thumbs/04034/v04034_s00051(f00008870-f00009390)_f00009373.jpg\" style=\"max-width:100px;display:inline;margin:1px\"/>"
      ],
      "text/plain": [
       "<IPython.core.display.HTML object>"
      ]
     },
     "metadata": {},
     "output_type": "display_data"
    },
    {
     "name": "stdout",
     "output_type": "stream",
     "text": [
      "------------------------------------\n",
      "\t*** Task ***\n",
      "\tname: 19_a21-2\n",
      "\ttype: A\n",
      "\ttimestamps: (1624441167899, 1624441467899)\n",
      "\ttimes: (23-06-2021 11:39:27, 23-06-2021 11:44:27)\n",
      "\ttext: Find shots of people having their hair done.\n",
      "\ttarget: None\n",
      "\n",
      "------------------------------------\n",
      "\t*** Task ***\n",
      "\tname: 20_v21-8\n",
      "\ttype: V\n",
      "\ttimestamps: (1624441541770, 1624441841770)\n",
      "\ttimes: (23-06-2021 11:45:41, 23-06-2021 11:50:41)\n",
      "\ttext: None\n",
      "\ttarget: *** TaskTarget ***\n",
      "\t\tvideo_ID: 4979\n",
      "\t\tinterval: (8325.0, 8800.0)\n",
      "\n",
      "\n"
     ]
    },
    {
     "data": {
      "text/html": [
       "<img src=\"./thumbs/04978/v04978_s00069(f00008254-f00008644)_f00008638.jpg\" style=\"max-width:100px;display:inline;margin:1px\"/><img src=\"./thumbs/04978/v04978_s00072(f00008654-f00008753)_f00008662.jpg\" style=\"max-width:100px;display:inline;margin:1px\"/><img src=\"./thumbs/04978/v04978_s00072(f00008654-f00008753)_f00008706.jpg\" style=\"max-width:100px;display:inline;margin:1px\"/><img src=\"./thumbs/04978/v04978_s00072(f00008654-f00008753)_f00008750.jpg\" style=\"max-width:100px;display:inline;margin:1px\"/><img src=\"./thumbs/04978/v04978_s00073(f00008754-f00008773)_f00008756.jpg\" style=\"max-width:100px;display:inline;margin:1px\"/><img src=\"./thumbs/04978/v04978_s00073(f00008754-f00008773)_f00008762.jpg\" style=\"max-width:100px;display:inline;margin:1px\"/><img src=\"./thumbs/04978/v04978_s00073(f00008754-f00008773)_f00008769.jpg\" style=\"max-width:100px;display:inline;margin:1px\"/><img src=\"./thumbs/04978/v04978_s00074(f00008774-f00008860)_f00008775.jpg\" style=\"max-width:100px;display:inline;margin:1px\"/>"
      ],
      "text/plain": [
       "<IPython.core.display.HTML object>"
      ]
     },
     "metadata": {},
     "output_type": "display_data"
    },
    {
     "name": "stdout",
     "output_type": "stream",
     "text": [
      "------------------------------------\n",
      "\t*** Task ***\n",
      "\tname: 21_v21-9\n",
      "\ttype: V\n",
      "\ttimestamps: (1624441993708, 1624442293708)\n",
      "\ttimes: (23-06-2021 11:53:13, 23-06-2021 11:58:13)\n",
      "\ttext: None\n",
      "\ttarget: *** TaskTarget ***\n",
      "\t\tvideo_ID: 1939\n",
      "\t\tinterval: (8012.5, 8700.0)\n",
      "\n",
      "\n"
     ]
    },
    {
     "data": {
      "text/html": [
       "<img src=\"./thumbs/01938/v01938_s00009(f00007446-f00009037)_f00008194.jpg\" style=\"max-width:100px;display:inline;margin:1px\"/><img src=\"./thumbs/01938/v01938_s00009(f00007446-f00009037)_f00008462.jpg\" style=\"max-width:100px;display:inline;margin:1px\"/><img src=\"./thumbs/01938/v01938_s00009(f00007446-f00009037)_f00008631.jpg\" style=\"max-width:100px;display:inline;margin:1px\"/>"
      ],
      "text/plain": [
       "<IPython.core.display.HTML object>"
      ]
     },
     "metadata": {},
     "output_type": "display_data"
    },
    {
     "name": "stdout",
     "output_type": "stream",
     "text": [
      "------------------------------------\n",
      "\t*** Task ***\n",
      "\tname: 22_v21-10\n",
      "\ttype: V\n",
      "\ttimestamps: (1624442363512, 1624442663512)\n",
      "\ttimes: (23-06-2021 11:59:23, 23-06-2021 12:04:23)\n",
      "\ttext: None\n",
      "\ttarget: *** TaskTarget ***\n",
      "\t\tvideo_ID: 4225\n",
      "\t\tinterval: (3926.07393, 4315.68432)\n",
      "\n",
      "\n"
     ]
    },
    {
     "data": {
      "text/html": [
       "<img src=\"./thumbs/04224/v04224_s00007(f00003840-f00004082)_f00003964.jpg\" style=\"max-width:100px;display:inline;margin:1px\"/><img src=\"./thumbs/04224/v04224_s00008(f00004083-f00004344)_f00004211.jpg\" style=\"max-width:100px;display:inline;margin:1px\"/>"
      ],
      "text/plain": [
       "<IPython.core.display.HTML object>"
      ]
     },
     "metadata": {},
     "output_type": "display_data"
    },
    {
     "name": "stdout",
     "output_type": "stream",
     "text": [
      "------------------------------------\n",
      "\t*** Task ***\n",
      "\tname: 23_v21-11\n",
      "\ttype: V\n",
      "\ttimestamps: (1624442760854, 1624443060854)\n",
      "\ttimes: (23-06-2021 12:06:00, 23-06-2021 12:11:00)\n",
      "\ttext: None\n",
      "\ttarget: *** TaskTarget ***\n",
      "\t\tvideo_ID: 6979\n",
      "\t\tinterval: (2925.072, 3332.6639999999998)\n",
      "\n",
      "\n"
     ]
    },
    {
     "data": {
      "text/html": [
       "<img src=\"./thumbs/06978/v06978_s00052(f00002922-f00003015)_f00002973.jpg\" style=\"max-width:100px;display:inline;margin:1px\"/><img src=\"./thumbs/06978/v06978_s00054(f00003022-f00003136)_f00003027.jpg\" style=\"max-width:100px;display:inline;margin:1px\"/><img src=\"./thumbs/06978/v06978_s00054(f00003022-f00003136)_f00003087.jpg\" style=\"max-width:100px;display:inline;margin:1px\"/><img src=\"./thumbs/06978/v06978_s00055(f00003137-f00003245)_f00003195.jpg\" style=\"max-width:100px;display:inline;margin:1px\"/><img src=\"./thumbs/06978/v06978_s00056(f00003246-f00003354)_f00003303.jpg\" style=\"max-width:100px;display:inline;margin:1px\"/>"
      ],
      "text/plain": [
       "<IPython.core.display.HTML object>"
      ]
     },
     "metadata": {},
     "output_type": "display_data"
    },
    {
     "name": "stdout",
     "output_type": "stream",
     "text": [
      "------------------------------------\n",
      "\t*** Task ***\n",
      "\tname: 24_v21-12\n",
      "\ttype: V\n",
      "\ttimestamps: (1624443154781, 1624443454781)\n",
      "\ttimes: (23-06-2021 12:12:34, 23-06-2021 12:17:34)\n",
      "\ttext: None\n",
      "\ttarget: *** TaskTarget ***\n",
      "\t\tvideo_ID: 4888\n",
      "\t\tinterval: (4975.0, 5450.0)\n",
      "\n",
      "\n"
     ]
    },
    {
     "data": {
      "text/html": [
       "<img src=\"./thumbs/04887/v04887_s00033(f00004939-f00005016)_f00004988.jpg\" style=\"max-width:100px;display:inline;margin:1px\"/><img src=\"./thumbs/04887/v04887_s00033(f00004939-f00005016)_f00005012.jpg\" style=\"max-width:100px;display:inline;margin:1px\"/><img src=\"./thumbs/04887/v04887_s00034(f00005017-f00005210)_f00005038.jpg\" style=\"max-width:100px;display:inline;margin:1px\"/><img src=\"./thumbs/04887/v04887_s00034(f00005017-f00005210)_f00005062.jpg\" style=\"max-width:100px;display:inline;margin:1px\"/><img src=\"./thumbs/04887/v04887_s00034(f00005017-f00005210)_f00005075.jpg\" style=\"max-width:100px;display:inline;margin:1px\"/><img src=\"./thumbs/04887/v04887_s00034(f00005017-f00005210)_f00005094.jpg\" style=\"max-width:100px;display:inline;margin:1px\"/><img src=\"./thumbs/04887/v04887_s00034(f00005017-f00005210)_f00005131.jpg\" style=\"max-width:100px;display:inline;margin:1px\"/><img src=\"./thumbs/04887/v04887_s00034(f00005017-f00005210)_f00005162.jpg\" style=\"max-width:100px;display:inline;margin:1px\"/><img src=\"./thumbs/04887/v04887_s00034(f00005017-f00005210)_f00005194.jpg\" style=\"max-width:100px;display:inline;margin:1px\"/><img src=\"./thumbs/04887/v04887_s00035(f00005211-f00005733)_f00005269.jpg\" style=\"max-width:100px;display:inline;margin:1px\"/><img src=\"./thumbs/04887/v04887_s00035(f00005211-f00005733)_f00005369.jpg\" style=\"max-width:100px;display:inline;margin:1px\"/><img src=\"./thumbs/04887/v04887_s00035(f00005211-f00005733)_f00005412.jpg\" style=\"max-width:100px;display:inline;margin:1px\"/><img src=\"./thumbs/04887/v04887_s00035(f00005211-f00005733)_f00005438.jpg\" style=\"max-width:100px;display:inline;margin:1px\"/>"
      ],
      "text/plain": [
       "<IPython.core.display.HTML object>"
      ]
     },
     "metadata": {},
     "output_type": "display_data"
    },
    {
     "name": "stdout",
     "output_type": "stream",
     "text": [
      "------------------------------------\n",
      "\t*** Task ***\n",
      "\tname: 25_v21-13\n",
      "\ttype: V\n",
      "\ttimestamps: (1624443516404, 1624443816404)\n",
      "\ttimes: (23-06-2021 12:18:36, 23-06-2021 12:23:36)\n",
      "\ttext: None\n",
      "\ttarget: *** TaskTarget ***\n",
      "\t\tvideo_ID: 2034\n",
      "\t\tinterval: (950.0, 1425.0)\n",
      "\n",
      "\n"
     ]
    },
    {
     "data": {
      "text/html": [
       "<img src=\"./thumbs/02033/v02033_s00016(f00000948-f00001023)_f00000969.jpg\" style=\"max-width:100px;display:inline;margin:1px\"/><img src=\"./thumbs/02033/v02033_s00016(f00000948-f00001023)_f00001006.jpg\" style=\"max-width:100px;display:inline;margin:1px\"/><img src=\"./thumbs/02033/v02033_s00017(f00001024-f00001043)_f00001031.jpg\" style=\"max-width:100px;display:inline;margin:1px\"/><img src=\"./thumbs/02033/v02033_s00018(f00001044-f00001099)_f00001069.jpg\" style=\"max-width:100px;display:inline;margin:1px\"/><img src=\"./thumbs/02033/v02033_s00019(f00001100-f00001183)_f00001119.jpg\" style=\"max-width:100px;display:inline;margin:1px\"/><img src=\"./thumbs/02033/v02033_s00019(f00001100-f00001183)_f00001162.jpg\" style=\"max-width:100px;display:inline;margin:1px\"/><img src=\"./thumbs/02033/v02033_s00020(f00001184-f00001207)_f00001200.jpg\" style=\"max-width:100px;display:inline;margin:1px\"/><img src=\"./thumbs/02033/v02033_s00021(f00001208-f00001236)_f00001225.jpg\" style=\"max-width:100px;display:inline;margin:1px\"/><img src=\"./thumbs/02033/v02033_s00022(f00001237-f00001273)_f00001238.jpg\" style=\"max-width:100px;display:inline;margin:1px\"/><img src=\"./thumbs/02033/v02033_s00022(f00001237-f00001273)_f00001256.jpg\" style=\"max-width:100px;display:inline;margin:1px\"/><img src=\"./thumbs/02033/v02033_s00023(f00001274-f00001327)_f00001300.jpg\" style=\"max-width:100px;display:inline;margin:1px\"/><img src=\"./thumbs/02033/v02033_s00024(f00001328-f00001380)_f00001356.jpg\" style=\"max-width:100px;display:inline;margin:1px\"/><img src=\"./thumbs/02033/v02033_s00025(f00001381-f00001501)_f00001406.jpg\" style=\"max-width:100px;display:inline;margin:1px\"/>"
      ],
      "text/plain": [
       "<IPython.core.display.HTML object>"
      ]
     },
     "metadata": {},
     "output_type": "display_data"
    },
    {
     "name": "stdout",
     "output_type": "stream",
     "text": [
      "------------------------------------\n",
      "\t*** Task ***\n",
      "\tname: 26_a21-3\n",
      "\ttype: A\n",
      "\ttimestamps: (1624443879008, 1624444179008)\n",
      "\ttimes: (23-06-2021 12:24:39, 23-06-2021 12:29:39)\n",
      "\ttext: Find shots of a person skiing, with his/her own skis in the picture.\n",
      "\ttarget: None\n",
      "\n",
      "------------------------------------\n",
      "\t*** Task ***\n",
      "\tname: 27_v21-14\n",
      "\ttype: V\n",
      "\ttimestamps: (1624444377137, 1624444677137)\n",
      "\ttimes: (23-06-2021 12:32:57, 23-06-2021 12:37:57)\n",
      "\ttext: None\n",
      "\ttarget: *** TaskTarget ***\n",
      "\t\tvideo_ID: 2519\n",
      "\t\tinterval: (720.0, 1170.0)\n",
      "\n",
      "\n"
     ]
    },
    {
     "data": {
      "text/html": [
       "<img src=\"./thumbs/02518/v02518_s00013(f00000716-f00000742)_f00000735.jpg\" style=\"max-width:100px;display:inline;margin:1px\"/><img src=\"./thumbs/02518/v02518_s00014(f00000743-f00000766)_f00000758.jpg\" style=\"max-width:100px;display:inline;margin:1px\"/><img src=\"./thumbs/02518/v02518_s00015(f00000767-f00000866)_f00000818.jpg\" style=\"max-width:100px;display:inline;margin:1px\"/><img src=\"./thumbs/02518/v02518_s00016(f00000867-f00000926)_f00000900.jpg\" style=\"max-width:100px;display:inline;margin:1px\"/><img src=\"./thumbs/02518/v02518_s00017(f00000927-f00000952)_f00000945.jpg\" style=\"max-width:100px;display:inline;margin:1px\"/><img src=\"./thumbs/02518/v02518_s00018(f00000953-f00000977)_f00000968.jpg\" style=\"max-width:100px;display:inline;margin:1px\"/><img src=\"./thumbs/02518/v02518_s00019(f00000978-f00001009)_f00000998.jpg\" style=\"max-width:100px;display:inline;margin:1px\"/><img src=\"./thumbs/02518/v02518_s00020(f00001010-f00001025)_f00001020.jpg\" style=\"max-width:100px;display:inline;margin:1px\"/><img src=\"./thumbs/02518/v02518_s00021(f00001026-f00001047)_f00001035.jpg\" style=\"max-width:100px;display:inline;margin:1px\"/><img src=\"./thumbs/02518/v02518_s00022(f00001048-f00001061)_f00001058.jpg\" style=\"max-width:100px;display:inline;margin:1px\"/><img src=\"./thumbs/02518/v02518_s00023(f00001062-f00001080)_f00001072.jpg\" style=\"max-width:100px;display:inline;margin:1px\"/><img src=\"./thumbs/02518/v02518_s00025(f00001093-f00001106)_f00001102.jpg\" style=\"max-width:100px;display:inline;margin:1px\"/><img src=\"./thumbs/02518/v02518_s00026(f00001107-f00001185)_f00001148.jpg\" style=\"max-width:100px;display:inline;margin:1px\"/>"
      ],
      "text/plain": [
       "<IPython.core.display.HTML object>"
      ]
     },
     "metadata": {},
     "output_type": "display_data"
    },
    {
     "name": "stdout",
     "output_type": "stream",
     "text": [
      "------------------------------------\n",
      "\t*** Task ***\n",
      "\tname: 28_a21-10\n",
      "\ttype: A\n",
      "\ttimestamps: (1624446978040, 1624447278040)\n",
      "\ttimes: (23-06-2021 13:16:18, 23-06-2021 13:21:18)\n",
      "\ttext: Find shots of two adult men hugging each other.\n",
      "\ttarget: None\n",
      "\n",
      "------------------------------------\n",
      "\t*** Task ***\n",
      "\tname: 29_v21-15\n",
      "\ttype: V\n",
      "\ttimestamps: (1624447335063, 1624447635063)\n",
      "\ttimes: (23-06-2021 13:22:15, 23-06-2021 13:27:15)\n",
      "\ttext: None\n",
      "\ttarget: *** TaskTarget ***\n",
      "\t\tvideo_ID: 7116\n",
      "\t\tinterval: (3386.61339, 3836.16384)\n",
      "\n",
      "\n"
     ]
    },
    {
     "data": {
      "text/html": [
       "<img src=\"./thumbs/07115/v07115_s00020(f00003032-f00003398)_f00003387.jpg\" style=\"max-width:100px;display:inline;margin:1px\"/><img src=\"./thumbs/07115/v07115_s00020(f00003032-f00003398)_f00003394.jpg\" style=\"max-width:100px;display:inline;margin:1px\"/><img src=\"./thumbs/07115/v07115_s00021(f00003400-f00004008)_f00003402.jpg\" style=\"max-width:100px;display:inline;margin:1px\"/><img src=\"./thumbs/07115/v07115_s00021(f00003400-f00004008)_f00003417.jpg\" style=\"max-width:100px;display:inline;margin:1px\"/><img src=\"./thumbs/07115/v07115_s00021(f00003400-f00004008)_f00003439.jpg\" style=\"max-width:100px;display:inline;margin:1px\"/><img src=\"./thumbs/07115/v07115_s00021(f00003400-f00004008)_f00003454.jpg\" style=\"max-width:100px;display:inline;margin:1px\"/><img src=\"./thumbs/07115/v07115_s00021(f00003400-f00004008)_f00003477.jpg\" style=\"max-width:100px;display:inline;margin:1px\"/><img src=\"./thumbs/07115/v07115_s00021(f00003400-f00004008)_f00003529.jpg\" style=\"max-width:100px;display:inline;margin:1px\"/><img src=\"./thumbs/07115/v07115_s00021(f00003400-f00004008)_f00003574.jpg\" style=\"max-width:100px;display:inline;margin:1px\"/><img src=\"./thumbs/07115/v07115_s00021(f00003400-f00004008)_f00003581.jpg\" style=\"max-width:100px;display:inline;margin:1px\"/><img src=\"./thumbs/07115/v07115_s00021(f00003400-f00004008)_f00003604.jpg\" style=\"max-width:100px;display:inline;margin:1px\"/><img src=\"./thumbs/07115/v07115_s00021(f00003400-f00004008)_f00003641.jpg\" style=\"max-width:100px;display:inline;margin:1px\"/><img src=\"./thumbs/07115/v07115_s00021(f00003400-f00004008)_f00003671.jpg\" style=\"max-width:100px;display:inline;margin:1px\"/><img src=\"./thumbs/07115/v07115_s00021(f00003400-f00004008)_f00003716.jpg\" style=\"max-width:100px;display:inline;margin:1px\"/><img src=\"./thumbs/07115/v07115_s00021(f00003400-f00004008)_f00003761.jpg\" style=\"max-width:100px;display:inline;margin:1px\"/><img src=\"./thumbs/07115/v07115_s00021(f00003400-f00004008)_f00003769.jpg\" style=\"max-width:100px;display:inline;margin:1px\"/><img src=\"./thumbs/07115/v07115_s00021(f00003400-f00004008)_f00003814.jpg\" style=\"max-width:100px;display:inline;margin:1px\"/>"
      ],
      "text/plain": [
       "<IPython.core.display.HTML object>"
      ]
     },
     "metadata": {},
     "output_type": "display_data"
    },
    {
     "name": "stdout",
     "output_type": "stream",
     "text": [
      "------------------------------------\n",
      "\t*** Task ***\n",
      "\tname: 30_a21-4\n",
      "\ttype: A\n",
      "\ttimestamps: (1624447710260, 1624448010260)\n",
      "\ttimes: (23-06-2021 13:28:30, 23-06-2021 13:33:30)\n",
      "\ttext: Find shots of kids playing football (soccer).\n",
      "\ttarget: None\n",
      "\n",
      "------------------------------------\n",
      "\t*** Task ***\n",
      "\tname: 31_v21-16\n",
      "\ttype: V\n",
      "\ttimestamps: (1624448185021, 1624448485021)\n",
      "\ttimes: (23-06-2021 13:36:25, 23-06-2021 13:41:25)\n",
      "\ttext: None\n",
      "\ttarget: *** TaskTarget ***\n",
      "\t\tvideo_ID: 6246\n",
      "\t\tinterval: (527.472, 839.16)\n",
      "\n",
      "\n"
     ]
    },
    {
     "data": {
      "text/html": [
       "<img src=\"./thumbs/06245/v06245_s00004(f00000523-f00000633)_f00000581.jpg\" style=\"max-width:100px;display:inline;margin:1px\"/><img src=\"./thumbs/06245/v06245_s00004(f00000523-f00000633)_f00000629.jpg\" style=\"max-width:100px;display:inline;margin:1px\"/><img src=\"./thumbs/06245/v06245_s00005(f00000636-f00000865)_f00000641.jpg\" style=\"max-width:100px;display:inline;margin:1px\"/><img src=\"./thumbs/06245/v06245_s00005(f00000636-f00000865)_f00000665.jpg\" style=\"max-width:100px;display:inline;margin:1px\"/><img src=\"./thumbs/06245/v06245_s00005(f00000636-f00000865)_f00000773.jpg\" style=\"max-width:100px;display:inline;margin:1px\"/>"
      ],
      "text/plain": [
       "<IPython.core.display.HTML object>"
      ]
     },
     "metadata": {},
     "output_type": "display_data"
    },
    {
     "name": "stdout",
     "output_type": "stream",
     "text": [
      "------------------------------------\n",
      "\t*** Task ***\n",
      "\tname: 32_v21-17\n",
      "\ttype: V\n",
      "\ttimestamps: (1624448569543, 1624448869543)\n",
      "\ttimes: (23-06-2021 13:42:49, 23-06-2021 13:47:49)\n",
      "\ttext: None\n",
      "\ttarget: *** TaskTarget ***\n",
      "\t\tvideo_ID: 3331\n",
      "\t\tinterval: (1198.8, 1486.512)\n",
      "\n",
      "\n"
     ]
    },
    {
     "data": {
      "text/html": [
       "<img src=\"./thumbs/03330/v03330_s00005(f00001187-f00001883)_f00001355.jpg\" style=\"max-width:100px;display:inline;margin:1px\"/>"
      ],
      "text/plain": [
       "<IPython.core.display.HTML object>"
      ]
     },
     "metadata": {},
     "output_type": "display_data"
    },
    {
     "name": "stdout",
     "output_type": "stream",
     "text": [
      "------------------------------------\n",
      "\t*** Task ***\n",
      "\tname: 33_a21-11\n",
      "\ttype: A\n",
      "\ttimestamps: (1624448946650, 1624449246650)\n",
      "\ttimes: (23-06-2021 13:49:06, 23-06-2021 13:54:06)\n",
      "\ttext: Find shots of people skiing, shot with the camera looking into the sun (back-lit shot, possibly with lens flare).\n",
      "\ttarget: None\n",
      "\n",
      "------------------------------------\n",
      "\t*** Task ***\n",
      "\tname: 34_v21-18\n",
      "\ttype: V\n",
      "\ttimestamps: (1624449356322, 1624449656322)\n",
      "\ttimes: (23-06-2021 13:55:56, 23-06-2021 14:00:56)\n",
      "\ttext: None\n",
      "\ttarget: *** TaskTarget ***\n",
      "\t\tvideo_ID: 5531\n",
      "\t\tinterval: (1850.0, 2175.0)\n",
      "\n",
      "\n"
     ]
    },
    {
     "data": {
      "text/html": [
       "<img src=\"./thumbs/05530/v05530_s00046(f00001830-f00001879)_f00001856.jpg\" style=\"max-width:100px;display:inline;margin:1px\"/><img src=\"./thumbs/05530/v05530_s00047(f00001880-f00001954)_f00001900.jpg\" style=\"max-width:100px;display:inline;margin:1px\"/><img src=\"./thumbs/05530/v05530_s00047(f00001880-f00001954)_f00001938.jpg\" style=\"max-width:100px;display:inline;margin:1px\"/><img src=\"./thumbs/05530/v05530_s00048(f00001955-f00001979)_f00001969.jpg\" style=\"max-width:100px;display:inline;margin:1px\"/><img src=\"./thumbs/05530/v05530_s00049(f00001980-f00002019)_f00002000.jpg\" style=\"max-width:100px;display:inline;margin:1px\"/><img src=\"./thumbs/05530/v05530_s00050(f00002020-f00002079)_f00002025.jpg\" style=\"max-width:100px;display:inline;margin:1px\"/><img src=\"./thumbs/05530/v05530_s00050(f00002020-f00002079)_f00002031.jpg\" style=\"max-width:100px;display:inline;margin:1px\"/><img src=\"./thumbs/05530/v05530_s00050(f00002020-f00002079)_f00002056.jpg\" style=\"max-width:100px;display:inline;margin:1px\"/><img src=\"./thumbs/05530/v05530_s00051(f00002080-f00002128)_f00002106.jpg\" style=\"max-width:100px;display:inline;margin:1px\"/><img src=\"./thumbs/05530/v05530_s00052(f00002129-f00002180)_f00002156.jpg\" style=\"max-width:100px;display:inline;margin:1px\"/>"
      ],
      "text/plain": [
       "<IPython.core.display.HTML object>"
      ]
     },
     "metadata": {},
     "output_type": "display_data"
    },
    {
     "name": "stdout",
     "output_type": "stream",
     "text": [
      "------------------------------------\n",
      "\t*** Task ***\n",
      "\tname: 35_v21-19\n",
      "\ttype: V\n",
      "\ttimestamps: (1624450582353, 1624450882353)\n",
      "\ttimes: (23-06-2021 14:16:22, 23-06-2021 14:21:22)\n",
      "\ttext: None\n",
      "\ttarget: *** TaskTarget ***\n",
      "\t\tvideo_ID: 2464\n",
      "\t\tinterval: (5825.0, 6325.0)\n",
      "\n",
      "\n"
     ]
    },
    {
     "data": {
      "text/html": [
       "<img src=\"./thumbs/02463/v02463_s00000(f00000000-f00008002)_f00005894.jpg\" style=\"max-width:100px;display:inline;margin:1px\"/><img src=\"./thumbs/02463/v02463_s00000(f00000000-f00008002)_f00006269.jpg\" style=\"max-width:100px;display:inline;margin:1px\"/>"
      ],
      "text/plain": [
       "<IPython.core.display.HTML object>"
      ]
     },
     "metadata": {},
     "output_type": "display_data"
    },
    {
     "name": "stdout",
     "output_type": "stream",
     "text": [
      "------------------------------------\n",
      "\t*** Task ***\n",
      "\tname: 36_v21-20\n",
      "\ttype: V\n",
      "\ttimestamps: (1624451061608, 1624451361608)\n",
      "\ttimes: (23-06-2021 14:24:21, 23-06-2021 14:29:21)\n",
      "\ttext: None\n",
      "\ttarget: *** TaskTarget ***\n",
      "\t\tvideo_ID: 6827\n",
      "\t\tinterval: (4531.464, 4891.103999999999)\n",
      "\n",
      "\n"
     ]
    },
    {
     "data": {
      "text/html": [
       "<img src=\"./thumbs/06826/v06826_s00049(f00004518-f00004566)_f00004543.jpg\" style=\"max-width:100px;display:inline;margin:1px\"/><img src=\"./thumbs/06826/v06826_s00050(f00004567-f00004646)_f00004609.jpg\" style=\"max-width:100px;display:inline;margin:1px\"/><img src=\"./thumbs/06826/v06826_s00051(f00004647-f00004741)_f00004699.jpg\" style=\"max-width:100px;display:inline;margin:1px\"/><img src=\"./thumbs/06826/v06826_s00052(f00004742-f00004911)_f00004771.jpg\" style=\"max-width:100px;display:inline;margin:1px\"/><img src=\"./thumbs/06826/v06826_s00052(f00004742-f00004911)_f00004795.jpg\" style=\"max-width:100px;display:inline;margin:1px\"/><img src=\"./thumbs/06826/v06826_s00052(f00004742-f00004911)_f00004813.jpg\" style=\"max-width:100px;display:inline;margin:1px\"/><img src=\"./thumbs/06826/v06826_s00052(f00004742-f00004911)_f00004867.jpg\" style=\"max-width:100px;display:inline;margin:1px\"/>"
      ],
      "text/plain": [
       "<IPython.core.display.HTML object>"
      ]
     },
     "metadata": {},
     "output_type": "display_data"
    },
    {
     "name": "stdout",
     "output_type": "stream",
     "text": [
      "------------------------------------\n",
      "\t*** Task ***\n",
      "\tname: 37_a21-6\n",
      "\ttype: A\n",
      "\ttimestamps: (1624451557507, 1624451857507)\n",
      "\ttimes: (23-06-2021 14:32:37, 23-06-2021 14:37:37)\n",
      "\ttext: Find underwater shots of one or more fish.\n",
      "\ttarget: None\n",
      "\n",
      "------------------------------------\n",
      "\t*** Task ***\n",
      "\tname: 38_v21-21\n",
      "\ttype: V\n",
      "\ttimestamps: (1624451948839, 1624452248839)\n",
      "\ttimes: (23-06-2021 14:39:08, 23-06-2021 14:44:08)\n",
      "\ttext: None\n",
      "\ttarget: *** TaskTarget ***\n",
      "\t\tvideo_ID: 3885\n",
      "\t\tinterval: (6458.541465, 6863.13687)\n",
      "\n",
      "\n"
     ]
    },
    {
     "data": {
      "text/html": [
       "<img src=\"./thumbs/03884/v03884_s00020(f00006539-f00006660)_f00006601.jpg\" style=\"max-width:100px;display:inline;margin:1px\"/><img src=\"./thumbs/03884/v03884_s00021(f00006661-f00006783)_f00006721.jpg\" style=\"max-width:100px;display:inline;margin:1px\"/><img src=\"./thumbs/03884/v03884_s00022(f00006784-f00006842)_f00006818.jpg\" style=\"max-width:100px;display:inline;margin:1px\"/>"
      ],
      "text/plain": [
       "<IPython.core.display.HTML object>"
      ]
     },
     "metadata": {},
     "output_type": "display_data"
    },
    {
     "name": "stdout",
     "output_type": "stream",
     "text": [
      "------------------------------------\n",
      "~~~~~~~~~~~~~~~~~~~~~~~~~~~~~~~~~~~~~~~~~~~~\n",
      "~~~~~~~~~~~~~~~~~~~~~~~~~~~~~~~~~~~~~~~~~~~~\n"
     ]
    }
   ],
   "source": [
    "vbs.print_tasks()\n",
    "\n",
    "print(\"~~~~~~~~~~~~~~~~~~~~~~~~~~~~~~~~~~~~~~~~~~~~\")\n",
    "print(\"~~~~~~~~~~~~~~~~~~~~~~~~~~~~~~~~~~~~~~~~~~~~\")\n",
    "\n",
    "#vbs.print_tasks([\"01_v21-1\"])"
   ]
  },
  {
   "cell_type": "code",
   "execution_count": null,
   "metadata": {},
   "outputs": [],
   "source": [
    "vbs.print_tool_features()\n",
    "\n",
    "print(\"~~~~~~~~~~~~~~~~~~~~~~~~~~~~~~~~~~~~~~~~~~~~\")\n",
    "print(\"~~~~~~~~~~~~~~~~~~~~~~~~~~~~~~~~~~~~~~~~~~~~\")\n",
    "\n",
    "vbs.print_tool_features([\"SOMHunter\"])"
   ]
  },
  {
   "cell_type": "code",
   "execution_count": null,
   "metadata": {},
   "outputs": [],
   "source": []
  },
  {
   "cell_type": "code",
   "execution_count": null,
   "metadata": {},
   "outputs": [],
   "source": [
    "vbs.print_task_results_arrays()\n",
    "\n",
    "print(\"~~~~~~~~~~~~~~~~~~~~~~~~~~~~~~~~~~~~~~~~~~~~\")\n",
    "print(\"~~~~~~~~~~~~~~~~~~~~~~~~~~~~~~~~~~~~~~~~~~~~\")\n",
    "\n",
    "vbs.print_task_results([\"SOMHunter\"], [\"sh-patrik\", \"sh-vit\"], [\"09_a21-7\"])\n",
    "\n",
    "print(\"~~~~~~~~~~~~~~~~~~~~~~~~~~~~~~~~~~~~~~~~~~~~\")\n",
    "print(\"~~~~~~~~~~~~~~~~~~~~~~~~~~~~~~~~~~~~~~~~~~~~\")\n",
    "vbs.print_task_results()"
   ]
  },
  {
   "cell_type": "code",
   "execution_count": null,
   "metadata": {},
   "outputs": [],
   "source": [
    "#\n",
    "# Print results from the given interval\n",
    "#\n",
    "vbs.print_results(\"SOMHunter\", \"sh-patrik\", 1624281095339, 1624281395339)\n",
    "vbs.print_results(\"SOMHunter\", \"sh-vit\", 1624281095339, 1624281395339)\n"
   ]
  },
  {
   "cell_type": "code",
   "execution_count": null,
   "metadata": {},
   "outputs": [],
   "source": [
    "#\n",
    "# Print submits for each task\n",
    "#\n",
    "vbs.print_task_submits_arrays()\n",
    "vbs.print_task_submits()"
   ]
  },
  {
   "cell_type": "code",
   "execution_count": null,
   "metadata": {},
   "outputs": [],
   "source": [
    "vbs.print_task_course([\"SOMHunter\"], [\"sh-patrik\"], [\"27_v21-14\"], events=[\"r\"])\n"
   ]
  },
  {
   "cell_type": "code",
   "execution_count": null,
   "metadata": {},
   "outputs": [],
   "source": []
  }
 ],
 "metadata": {
  "interpreter": {
   "hash": "b3ba2566441a7c06988d0923437866b63cedc61552a5af99d1f4fb67d367b25f"
  },
  "kernelspec": {
   "display_name": "Python 3.8.3 64-bit ('base': conda)",
   "name": "python3"
  },
  "language_info": {
   "codemirror_mode": {
    "name": "ipython",
    "version": 3
   },
   "file_extension": ".py",
   "mimetype": "text/x-python",
   "name": "python",
   "nbconvert_exporter": "python",
   "pygments_lexer": "ipython3",
   "version": "3.8.3"
  }
 },
 "nbformat": 4,
 "nbformat_minor": 4
}