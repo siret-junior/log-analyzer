{
 "cells": [
  {
   "cell_type": "code",
   "execution_count": 1,
   "metadata": {},
   "outputs": [],
   "source": [
    "import numpy as np\n",
    "import csv\n",
    "import json\n",
    "import os \n",
    "import datetime\n",
    "import matplotlib.pyplot as plt\n",
    "import seaborn as sb\n",
    "import shutil\n",
    "\n",
    "from IPython.display import Image, display, HTML\n",
    "\n",
    "import pprint \n",
    "pp = pprint.PrettyPrinter(indent=4)"
   ]
  },
  {
   "cell_type": "code",
   "execution_count": 2,
   "metadata": {},
   "outputs": [],
   "source": [
    "import config\n",
    "import utils\n",
    "\n",
    "from impl import Data, JsonLog, Results, UserResults"
   ]
  },
  {
   "cell_type": "code",
   "execution_count": 3,
   "metadata": {},
   "outputs": [],
   "source": [
    "#Data.flush_cache()"
   ]
  },
  {
   "cell_type": "code",
   "execution_count": 4,
   "metadata": {
    "scrolled": false
   },
   "outputs": [
    {
     "name": "stdout",
     "output_type": "stream",
     "text": [
      "%%% PARSING TASKS %%%\n",
      "%%% Parsed 38 tasks. %%%\n",
      "%%% DONE! %%%\n"
     ]
    }
   ],
   "source": [
    "data = Data()"
   ]
  },
  {
   "cell_type": "markdown",
   "metadata": {},
   "source": [
    "# Results"
   ]
  },
  {
   "cell_type": "code",
   "execution_count": 5,
   "metadata": {},
   "outputs": [],
   "source": [
    "#data.print_tasks()"
   ]
  },
  {
   "cell_type": "code",
   "execution_count": 6,
   "metadata": {
    "scrolled": false
   },
   "outputs": [
    {
     "name": "stdout",
     "output_type": "stream",
     "text": [
      "==============\n",
      "TEAM: SOMHunter\n",
      "\n",
      "%%% CALCULATING SERVER TS DIFF %%%\n",
      "---\n",
      "\t +++ sh-patrik +++ \n",
      "\tDATA: ./data/sh-patrik \n",
      "\n",
      "\t--- DIR: actions ---\n",
      "\t--- DONE. ---\n",
      "---\n",
      "\t +++ sh-vit +++ \n",
      "\tDATA: ./data/sh-vit \n",
      "\n",
      "\t--- DIR: actions ---\n",
      "\t--- DONE. ---\n",
      "DIFF MIN FOR sh-patrik: -123\n",
      "DIFF MIN FOR sh-vit: 1\n",
      "%%% DONE! %%%\n",
      "%%% PARSING RESULTS %%%\n",
      ">>>!!!<<< Using cached values. >>>!!!<<<\n",
      "\t from: ./__cache__/SOMHunter\\results.pkl\n"
     ]
    },
    {
     "ename": "TypeError",
     "evalue": "'Results' object does not support item assignment",
     "output_type": "error",
     "traceback": [
      "\u001b[1;31m---------------------------------------------------------------------------\u001b[0m",
      "\u001b[1;31mTypeError\u001b[0m                                 Traceback (most recent call last)",
      "\u001b[1;32m<ipython-input-6-30d02526316f>\u001b[0m in \u001b[0;36m<module>\u001b[1;34m\u001b[0m\n\u001b[1;32m----> 1\u001b[1;33m data.parse_team(\"SOMHunter\", \n\u001b[0m\u001b[0;32m      2\u001b[0m                   \u001b[1;33m[\u001b[0m\u001b[1;34m\"sh-patrik\"\u001b[0m\u001b[1;33m,\u001b[0m \u001b[1;34m\"sh-vit\"\u001b[0m\u001b[1;33m]\u001b[0m\u001b[1;33m,\u001b[0m\u001b[1;33m\u001b[0m\u001b[1;33m\u001b[0m\u001b[0m\n\u001b[0;32m      3\u001b[0m                   \u001b[0mverbose\u001b[0m\u001b[1;33m=\u001b[0m\u001b[1;32mTrue\u001b[0m\u001b[1;33m,\u001b[0m\u001b[1;33m\u001b[0m\u001b[1;33m\u001b[0m\u001b[0m\n\u001b[0;32m      4\u001b[0m                   \u001b[0mvalidate_fix\u001b[0m\u001b[1;33m=\u001b[0m\u001b[1;32mFalse\u001b[0m\u001b[1;33m,\u001b[0m\u001b[1;33m\u001b[0m\u001b[1;33m\u001b[0m\u001b[0m\n\u001b[0;32m      5\u001b[0m                   \u001b[0mgenerate_DRES\u001b[0m\u001b[1;33m=\u001b[0m\u001b[1;32mFalse\u001b[0m\u001b[1;33m\u001b[0m\u001b[1;33m\u001b[0m\u001b[0m\n",
      "\u001b[1;32mc:\\Users\\frank\\source\\repos\\vbs2021-analysis\\impl.py\u001b[0m in \u001b[0;36mparse_team\u001b[1;34m(self, team_name, team_names, verbose, validate_fix, generate_DRES)\u001b[0m\n\u001b[0;32m    422\u001b[0m             \u001b[0mself\u001b[0m\u001b[1;33m.\u001b[0m\u001b[0mgenerate_DRES_logs\u001b[0m\u001b[1;33m(\u001b[0m\u001b[0mteam_name\u001b[0m\u001b[1;33m,\u001b[0m \u001b[0mteam_names\u001b[0m\u001b[1;33m)\u001b[0m\u001b[1;33m\u001b[0m\u001b[1;33m\u001b[0m\u001b[0m\n\u001b[0;32m    423\u001b[0m \u001b[1;33m\u001b[0m\u001b[0m\n\u001b[1;32m--> 424\u001b[1;33m         \u001b[0mself\u001b[0m\u001b[1;33m.\u001b[0m\u001b[0mparse_results\u001b[0m\u001b[1;33m(\u001b[0m\u001b[0mteam_name\u001b[0m\u001b[1;33m,\u001b[0m \u001b[0mteam_names\u001b[0m\u001b[1;33m)\u001b[0m\u001b[1;33m\u001b[0m\u001b[1;33m\u001b[0m\u001b[0m\n\u001b[0m\u001b[0;32m    425\u001b[0m         \u001b[1;31m###\u001b[0m\u001b[1;33m\u001b[0m\u001b[1;33m\u001b[0m\u001b[1;33m\u001b[0m\u001b[0m\n\u001b[0;32m    426\u001b[0m \u001b[1;33m\u001b[0m\u001b[0m\n",
      "\u001b[1;32mc:\\Users\\frank\\source\\repos\\vbs2021-analysis\\impl.py\u001b[0m in \u001b[0;36mparse_results\u001b[1;34m(self, team_name, team_names)\u001b[0m\n\u001b[0;32m    436\u001b[0m \u001b[1;33m\u001b[0m\u001b[0m\n\u001b[0;32m    437\u001b[0m             \u001b[0mx\u001b[0m \u001b[1;33m=\u001b[0m \u001b[0mutils\u001b[0m\u001b[1;33m.\u001b[0m\u001b[0mload_obj\u001b[0m\u001b[1;33m(\u001b[0m\u001b[0mcached_file\u001b[0m\u001b[1;33m)\u001b[0m\u001b[1;33m\u001b[0m\u001b[1;33m\u001b[0m\u001b[0m\n\u001b[1;32m--> 438\u001b[1;33m             \u001b[0mself\u001b[0m\u001b[1;33m.\u001b[0m\u001b[0m_results\u001b[0m\u001b[1;33m[\u001b[0m\u001b[0mteam_name\u001b[0m\u001b[1;33m]\u001b[0m \u001b[1;33m=\u001b[0m \u001b[0mx\u001b[0m\u001b[1;33m\u001b[0m\u001b[1;33m\u001b[0m\u001b[0m\n\u001b[0m\u001b[0;32m    439\u001b[0m         \u001b[1;32melse\u001b[0m\u001b[1;33m:\u001b[0m\u001b[1;33m\u001b[0m\u001b[1;33m\u001b[0m\u001b[0m\n\u001b[0;32m    440\u001b[0m \u001b[1;33m\u001b[0m\u001b[0m\n",
      "\u001b[1;31mTypeError\u001b[0m: 'Results' object does not support item assignment"
     ]
    }
   ],
   "source": [
    "data.parse_team(\"SOMHunter\", \n",
    "                  [\"sh-patrik\", \"sh-vit\"], \n",
    "                  verbose=True, \n",
    "                  validate_fix=False,\n",
    "                  generate_DRES=False\n",
    "                 )"
   ]
  },
  {
   "cell_type": "code",
   "execution_count": null,
   "metadata": {
    "scrolled": false
   },
   "outputs": [],
   "source": []
  },
  {
   "cell_type": "code",
   "execution_count": null,
   "metadata": {},
   "outputs": [],
   "source": []
  },
  {
   "cell_type": "code",
   "execution_count": null,
   "metadata": {},
   "outputs": [],
   "source": [
    "data.parse_team(\"CollageHunter\", \n",
    "                  [\"collage-jakub\", \"collage-premek\"], \n",
    "                  verbose=True, \n",
    "                  validate_fix=False, \n",
    "                  generate_DRES=False\n",
    "                 )"
   ]
  },
  {
   "cell_type": "code",
   "execution_count": null,
   "metadata": {},
   "outputs": [],
   "source": [
    "data.parse_team(\"LegacySOMHunter\", \n",
    "                  [\"legacy-tereza\", \"legacy-franta-tomas\"], \n",
    "                  verbose=True, \n",
    "                  validate_fix=False, \n",
    "                  generate_DRES=False\n",
    "                 )"
   ]
  },
  {
   "cell_type": "code",
   "execution_count": null,
   "metadata": {},
   "outputs": [],
   "source": [
    "print(data.results())"
   ]
  },
  {
   "cell_type": "code",
   "execution_count": null,
   "metadata": {},
   "outputs": [],
   "source": []
  }
 ],
 "metadata": {
  "kernelspec": {
   "display_name": "Python 3",
   "language": "python",
   "name": "python3"
  },
  "language_info": {
   "codemirror_mode": {
    "name": "ipython",
    "version": 3
   },
   "file_extension": ".py",
   "mimetype": "text/x-python",
   "name": "python",
   "nbconvert_exporter": "python",
   "pygments_lexer": "ipython3",
   "version": "3.8.3"
  }
 },
 "nbformat": 4,
 "nbformat_minor": 4
}
